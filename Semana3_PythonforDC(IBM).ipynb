{
  "nbformat": 4,
  "nbformat_minor": 0,
  "metadata": {
    "colab": {
      "provenance": [],
      "include_colab_link": true
    },
    "kernelspec": {
      "name": "python3",
      "display_name": "Python 3"
    },
    "language_info": {
      "name": "python"
    }
  },
  "cells": [
    {
      "cell_type": "markdown",
      "metadata": {
        "id": "view-in-github",
        "colab_type": "text"
      },
      "source": [
        "<a href=\"https://colab.research.google.com/github/PosgradoMNA/actividades-de-aprendizaje-JulioOsvaldoHernandezBucio/blob/main/Semana3_PythonforDC(IBM).ipynb\" target=\"_parent\"><img src=\"https://colab.research.google.com/assets/colab-badge.svg\" alt=\"Open In Colab\"/></a>"
      ]
    },
    {
      "cell_type": "markdown",
      "source": [
        "# **Semana 3. Modulo 5. Python For DataScience. Julio Osvaldo Hernandez Bucio. A01749366.**"
      ],
      "metadata": {
        "id": "6JTJFMd_6EG8"
      }
    },
    {
      "cell_type": "markdown",
      "source": [
        "# Numpy 1D arrays"
      ],
      "metadata": {
        "id": "5n6ogsc36dR5"
      }
    },
    {
      "cell_type": "markdown",
      "source": [
        "Basics and array creation. A Python list is a container that allows you to store and access data. Each element is associated with an index. A \"numpy\" array or \"ndarray\" is similar to a list. It's usually fixed in size and each\n",
        "element is of the same type, in this case, integers."
      ],
      "metadata": {
        "id": "tERXz8z0_UU2"
      }
    },
    {
      "cell_type": "code",
      "execution_count": null,
      "metadata": {
        "colab": {
          "base_uri": "https://localhost:8080/"
        },
        "id": "XbvFjyCi6B1M",
        "outputId": "14fca58c-c708-455e-fcc5-883a8c56635c"
      },
      "outputs": [
        {
          "output_type": "execute_result",
          "data": {
            "text/plain": [
              "dtype('int64')"
            ]
          },
          "metadata": {},
          "execution_count": 6
        }
      ],
      "source": [
        "a = [\"0\", 1, \"two\", \"3\", 4]\n",
        "\n",
        "import numpy as np\n",
        "a=np.array([0, 1, 2, 3, 4])\n",
        "type(a)\n",
        "a.dtype"
      ]
    },
    {
      "cell_type": "markdown",
      "source": [
        "The attribute size is the number\n",
        "of elements in the array. The attribute \"ndim” represents the number of array dimensions or the rank of the array. The attribute \"shape” is a tuple of integers indicating the size of the array in each dimension."
      ],
      "metadata": {
        "id": "GlMw_a--8Lnk"
      }
    },
    {
      "cell_type": "code",
      "source": [
        "a.size \n",
        "a.ndim\n",
        "a.shape"
      ],
      "metadata": {
        "colab": {
          "base_uri": "https://localhost:8080/"
        },
        "id": "mhXUmAD27cRC",
        "outputId": "15bcfabc-cbc6-4ca0-f285-1080394da7a1"
      },
      "execution_count": null,
      "outputs": [
        {
          "output_type": "execute_result",
          "data": {
            "text/plain": [
              "(5,)"
            ]
          },
          "metadata": {},
          "execution_count": 7
        }
      ]
    },
    {
      "cell_type": "markdown",
      "source": [
        "We can create a numpy array with real numbers. When we check the type of the array, we get numpy.ndarray. If we examine the attribute \"dtype,\" we see float 64 as the elements are\n",
        "not integers."
      ],
      "metadata": {
        "id": "hKjvJPj98qRL"
      }
    },
    {
      "cell_type": "code",
      "source": [
        "b = np.array([3.1, 11.02, 6.2, 213.2, 5.2])\n",
        "type(b)\n",
        "b.dtype"
      ],
      "metadata": {
        "colab": {
          "base_uri": "https://localhost:8080/"
        },
        "id": "GJWKugJ_8rRZ",
        "outputId": "c361f573-d4a0-40fc-a569-1fc44064fe55"
      },
      "execution_count": null,
      "outputs": [
        {
          "output_type": "execute_result",
          "data": {
            "text/plain": [
              "dtype('float64')"
            ]
          },
          "metadata": {},
          "execution_count": 8
        }
      ]
    },
    {
      "cell_type": "markdown",
      "source": [
        "# **Indexing and Slicing**"
      ],
      "metadata": {
        "id": "SdZVqwIF9mie"
      }
    },
    {
      "cell_type": "markdown",
      "source": [
        "We can change the first element of the array\n",
        "to 100, as follows."
      ],
      "metadata": {
        "id": "f0hQzvrd9meN"
      }
    },
    {
      "cell_type": "code",
      "source": [
        "c = np.array([20, 1, 2, 3, 4])\n",
        "c[0] = 100"
      ],
      "metadata": {
        "id": "jJ0uI0LU9e_l"
      },
      "execution_count": null,
      "outputs": []
    },
    {
      "cell_type": "markdown",
      "source": [
        "We can change the 5-th element of the array as follows."
      ],
      "metadata": {
        "id": "GEjO5n9c-QE7"
      }
    },
    {
      "cell_type": "code",
      "source": [
        "c[4] = 0"
      ],
      "metadata": {
        "id": "8X6DLfXf9yEe"
      },
      "execution_count": null,
      "outputs": []
    },
    {
      "cell_type": "markdown",
      "source": [
        "Like lists and tuples, we can slice a numpy array. The elements of the array correspond to the following index. We can select the elements from 1 to 3 and assign it to a new numpy array 'd' as follows. "
      ],
      "metadata": {
        "id": "F1GLGv9k-01a"
      }
    },
    {
      "cell_type": "code",
      "source": [
        "d = c[1:4]"
      ],
      "metadata": {
        "id": "yLJ_ajC7-Lt-"
      },
      "execution_count": null,
      "outputs": []
    },
    {
      "cell_type": "markdown",
      "source": [
        "We can assign the corresponding indexes to new values as follows."
      ],
      "metadata": {
        "id": "wVj4Bg2S_DLj"
      }
    },
    {
      "cell_type": "code",
      "source": [
        "c[3:5] = 300, 400"
      ],
      "metadata": {
        "id": "MBKIWMqN-84O"
      },
      "execution_count": null,
      "outputs": []
    },
    {
      "cell_type": "markdown",
      "source": [
        "# **Basic Operations**"
      ],
      "metadata": {
        "id": "-RCEUPgW_awQ"
      }
    },
    {
      "cell_type": "markdown",
      "source": [
        "Consider the vector 'u' with\n",
        "two elements; the elements are distinguished by the different colors. Similarly, consider\n",
        "the vector 'v' with two components. In vector addition, we create a new vector in this case\n",
        "'z'. The first component of 'z' is the addition of the first component of vectors 'u' and\n",
        "'v'. This new vector 'z' is now a linear combination of the vector 'u' and 'v'."
      ],
      "metadata": {
        "id": "ShxUpj_p_68H"
      }
    },
    {
      "cell_type": "markdown",
      "source": [
        "![image.png](data:image/png;base64,iVBORw0KGgoAAAANSUhEUgAAAPcAAACBCAYAAAAc9yyPAAAAAXNSR0IArs4c6QAAAARnQU1BAACxjwv8YQUAAAAJcEhZcwAADsMAAA7DAcdvqGQAAEZzSURBVHhe7X0HvFxF9f95LclLIRVC7yWUEKo06SKBiIQigqCC0n7+EVH6BxAEf6L+RLGAoIj9g4AoCKKgVAu9E0JJAiSQ3tvLq/s/33Pm3Dt39u7u3X37kpe8/e47OzNn2pkzc2bmzr17X93UqVNz1EeQy+Woo6OD5s+fT52dnRKGC9TX19N6661HQ4asxwmJuvBVJ1EBjFkn+fEBp76uTqk+NZMA6VtaWqT+rq4u4aFeUENDAw0dOpSam5upjsupGDmWvAtd2kV11e7Zunomls2oBwFdGUrrg3tB0mseTW/UPfhyANLnxgvigDpXZxyTnwYA1/q+p1A3bdq09Np7EVJ0GIANLONg++CDD+i2226jlStXOg6bARta//4D6LDDDmc6lMM5Ng02PtSbWqwOnLjjc5mMGxPJ5MmT6Y477hAjb2xsdDFEI0aMoPHjx9Nuu+3mOBUCMsHA2a0rrbjskGbxQET7YOQ9DNNt9okubGucr9yyiqVHXE70KwFlcl1IaoadBI+lKF0McHrcuN977738mnsRoEwYWxaEhhV2Dsp6+eWX6ZRTThFD23rrrWnPPfek9vYO6tevHx1++OF08CGHSJ+hA9OhZep6jZCt3mrYDYEMvuRdzrjvvPNOam1tlY59//336emnn6YtttiCvvzlL9MJJ5zgUncDPFnlmCBb9cDtQtPqG6BYZQUIa0tPVX1gNzZnzhzZEQHt7e0yYaO/R44cSZtssjENGDCAY0wiX7JCUjOfvb7BqmF7xs1AbHtbO70/fTotWbpEeOjXJp64kWT9UaOEGtxE7tfW48Y9ffr0sHW9Cp2dUCQMze+QNKAzrCvcNzswcN/IX3nlFTr11FNl1Tz99NPpggsucDHoPK5PJhKkRydaSemwlJYI1SQmGCQI4Ikig/Khhx4So4ZxQ5Zjjz3WxXYD2PLL6GMSGVIEKQsstMgtDUw2wqFQDfkpq4+lS5fSr371K3rggQekX/v37y/8lbw7OuTgg+lzn/scbbzxxsLzBTUDzTkh4WjTPAaQyKOThkSyC+NcMH8e/Zx3g88+86z0Pxaj1rZW2Z196oQT6aSTT+ad2XDJ5+upx42bt6l+fb0KUIYad2kRRd3WGax4eMWwWdnYLhtg3Fi5cY37+c9/ni666CLujE5qbVlKbatWcB6tK1mllK7eBIrLlRgo1EhN/QdT86AhLqwrDAbkV7/6VTFuuBMnTnSxlQP6ki25NAKucPFVBrz2mhcNMgr04WqKEGVxbk9i0aJF9J3vfId+97vf0S677EJHHX00bbjhaL70aqGtttqKxo3dhfo31VNnewsLZFIW0EcKW0xS+HEkfNa2jo5OemPy2zRr9kJqaOpHMz+cSX++98/01ttv01lfPJPOPuccGj16A+kXv/geN+4PP/zQr69XAVsrJRbUabKQsCEfyXUc4rCqPuoI25ZjhjfjXrl8Ib358t9oyexJ1DzADsoY4vKHA/72TBHX6G9/JZVVLl6U10CtXUNo6OixNO4jH+edrW7RYNx/+ctf6Gtf+1pk3Mcdd5zEVQp/Isw38DLhmhxldYatOyEX6eBqEVhMMkXPYfHixfTtb3+bfvvb39KET3yCvsZ63GHMGBaIJWJZly+aSVNffZxWLJxCA/rxYoHzFP52vezJib5yXoAD2v/4tjzKV3BO9tc1NFNnw/q06bYfpY233JFmzPiArr7mGnr00UfpnLPPpnPYuNdff31XToweN+5Zs2b59fUqwLCxcqtSCw+VYg3Aqt3UyNeJDjDuT3/609G2/OKLL6b5s6fQY3dfQkNzr9CG6/ejjs4OZ5voWMnmKjEZwho1HG3/XSZ8g9NFzTR36Uha3rg3ffLUK6j/4OESb8YNo958883FyI8//niJqxQJ48aXF64U0L60xRl11E4PYS35KXoOMO7rr7+efvOb39CR48fThRdeSDvvvLMcZKH/Z097hl599MfUv/01Gjm0k7o6W1lASOxLzRJzMJzEY3OUyDCHomk4vfF+M43YciLtc9hpNHveQvrGN75BTzz5JJ3Lhn3OuefSBjBuHs/Ib2Vg99iTxs1t187qjQTAicIFyM+TR+iCFD5UDAf+xvou2nC9Ftpru3Yat/0K2nPblbTHdkp7bu9oBxDHCVnYqIXTtER59oCfCfn24Li9xrTRbtvV0fpDMUVh4vDliOHzK6GwDP7C8tBtqqvHIGzg4tjvle+T3Cnw/GH86iBVgPy5tjOfqam+jTZfv4123b6Nxo1ZSbuDuN92576JiPsKvN24f4V4HICMb+nQn0Lcv7sbjemgsds20oghOFTFdTiEUHlENueC58vb09SrjduIv/J4Wcn1dJIXAQbOPP7kOnnjxStpnVAX1bWCON6oLaB2pg4u2Q/nkYtv54Rtba6+fAMBQl65lFaGbfsqpbC8LLRGDZvBISgCf4n4XFcn5dpbpS+ivvEJfWn+TlzGNSl1cX7wuPvqsOAbIRxRO4+dNt4p4A6FSuGv8SKfkwNud/RbDnEd+Z3a64gNomwK87my0GgDDE14MsPLRM9h53J8HoEPpTX24z3VAOrIoWzjFyc52BNKypKUJxmflcJ82O7Zlq87ZOWEZZncpr9KKC6j8jabzowsrPL65PK5vihI3Mno2w6+jFrYMpAWt/anzromqkd5aemN8MV/QuY3QDaT2eRgqkb/lCRfOX2FVOcBX/shJu7oBAm/jrrqm2jhioH0/OsD6cVXiQ2c87pbv0JWDtyQuCB0sF8vOsHg87NSpfnKJRswSb5UHyDRYkcGu+LEDoZjEuSXWz75SIvnv5iQJo0a+lFL5yB67a0meujhlfT3h1po8rQGas3xCt6IvuM0PqHfpe+5fCsDFXAT7ajDlyEyOo/8+GrTumvc/JEtoqdA/lLyEOdhP8Ig6zyXXEg6s55WdTSyUa+kOx5YRvc+kuMwd7xv3CmEQuOw1edkChDGl0s9PWCUIKjKm4/YgGNi4ABL8sH1CZEwdjP4tPqykQ/m8G7LjQEXF9eRQohvWo8mT62jfz6xlBasGkzvzhtMf3ukld6b3cBx3M9IZ2MjMT78cvXeiR1smmxpK7XF9RRxHckKeyOJgQa8LGR5cCtMeGi0qNwNOVWAphU/tljedsvI4yHj0GGDaK+9R1JzM3ck93IirVFeOabwuE4jFSWf3/tI5Y8mTIjuyAY8RyUoSsPp1YLgQhdwuDzoxspDOEU/Wcgglwog4TuDQtmQB3UVIv7q6uxHk96ooxEj6uiU0zamk0/ZlDo6+tOM9/UwkYvLz8d1wq2r4+tt1MH1WVtUHjVsEO7Q+Ebe41tzE2RtIP4qi9LKABl8Xr1OtOz3iDtLyPi5Tho6sJP22nM4bbPpcLKnYhN5fLL8EtbVCYWZDL4sBl+mUhSmR4f64eoS6kKFqBXtiG8S6VSppNzY74djKNd4FlKf+tNlKE6GPD5cREhfFFi92dBWtXYxddKo4f1oWN1cGtG0ggY396cO5uGps7gvmaQeJq9MmZjYI60IVm5QaHx+XE8Qi1ZDcuClAD1pyHVQrm0xdbQvZwWCgR6WmKJADSVqyQx5GMIu6hjWmT0HlV7qRN1Ra0DxAyHG9z9xOp8UGuKPa08cU0VEhZYqnfWXY3PIwUARwgcGi5UZcRxIoxTgV3l+//jo+b6KwRNIcjbpC6SAkh2PlQ12tNUqSrw3o4E8pPtTZycutpuZ1xTHp5UT8fzZO96SGYpt02xQgHx+j2/tWHDz610FDeslT1IW4xuFcTFpOXF5sevf2SiHzGCg4/y6rWzrhxRCj/bHDz4aaPGyHK3sHEZLV/WntrZ2GtDcQE24tGN7jdJbn6JO+OHx6jZ50vpstZFV3pfIR8yDK/1TmFhhrR1N9O57OXpnahstWUr05jv1tGxZo56mpuURwpdUwX7t+LjeJNJ4AilDyfKiA83fM6TywBURpBEAb0NBsUjlEVsFyhXA8cjSAElZipMPhGUi5QLjeBSsZacSdVJzcxdtvlkdzZnbRv95nuip51ZQ/8aVtNGmXXy9jTYjnUfIBxI/6jFeLJP5fTKkxVWT+pxx+0jGZRisPCjbOohmvDeb2pbMoR02a6AZ7y6kJUtWsXGjjJQ8RhjQGG4cCMng+zkQEHgxPyyjGGVBep7YVVa8Fw3Tl0VSHiYnDEDTiRSbGX55FjZXVm+EwXJ+6d9SE1LXEtp3jw4aN6aZ3ntlKq2YNZsO2qcfbb8p929nK/chp/HJy4svt1qyF4wYWn8+WZy51SZsJvokpD/Umx1dnTSkfwsdsn8DnfPZJjrvC/3ouKPraZPRPODb9Y0u5SOWwq7T1ITs0yVPPiFKogtcyxWD3+FpKMRX5McVTZ4RKIIl0oAHa7VpIQvy5Q/zcXyW4tpW0Mghq+gTRzTS5z/dRKcz7bNHAw1o6MJvgV2iwjApQml8+dKuxYvrv3Ks0ys3f+XxhO8h4sNvpFlTqaG+iwYObKPBA5dTc78lNGhQBzU2clyJfKgBrs3s5vryhGEbjWApRR4liYvLyUKJazJHWdLpAzgch9U24uXnK4tQXoLnNy+MU/Jl8mXwEfGcK7Hit7ILEFbjzhZqqltCo0ZyH7Oh13WulLsk4UqdIC0e31Gb4r5zMjgK9ZaWplqU2bh9WNiPS0vTW4i/kmGHBI+3bdwv7GdCXDHiRVqeRTbifkxNZ4R49nC36sev10FlUFcHiPOnUhxneVcX2eDkrwS/Igp0AUIniF+MKebbQZvPE77J4wNhL40Ehe35ixEv0vL7AjyD7vouL41P/IUtsE7YsYxALENMkNlvS6F03aWCxu1j4cKF9NJLL9FTTz1FkyZNklcEWRq42GrMmzeP3njjDXrrrbdoypQptGrVqii+UjIllKK0vMXIh/Lg9iDJQNUZIJQFZBC/8NLTRYSPF+55oB7o2dM1uJ4M1SIYSNy38IPH9ZrRFyEVFdfVVo4fD3lLXHOHhH4rtmLnkdYbyeIQy5Akf/wWS1cpFTRuEH5PDYO+5ZZb6Otf/zpdfvnl9L//+7/04IMPJoRqa2uT3yUjDm/E+NGPfiSvvrE0lZI91dPU1EiNTQ3ihtTYqLeC0vKnEeC7CRJeTxAPqqhspzcmcYMLQRscMphlcCKp45m/m3oNyRD6k/F4P1wjf9erxF58eQTZS1GQJ6thMyQ/XM4jBm7x1geSpvoEcE1xwCGUsxiVm74UYTeRCrzf65///Kf+6PyJJ+RFfs899xzdf//98sP4JUuWSAEA3hWFl/7de++9dPfdd9Ozzz4bvceqGLDi4y2keGMFXjf097//PY/wjrGHmf7hXKOHEPe3v9GLLzzP5XSxgSeVWglk0OLLpywomZZlkxd1pcuYyJqXLD2PD+uHrLBDHbye6L///S/98Y9/lP7797//Lf1qWLZsGT3//PN09x/vpj/c+Qf6D6ddtmwFS4RPccDI8ExAuaRDkktnfaWeHRbVc6wtuFCLqkYNu1tAvT6lwq8le41+/6UduFWKgis33hLy2GOPydsjsSIfc8wxkgGr+ezZs2nWrFmSDsAgwXYcgFF/5CMfkVf1AmG5PmHFxVs0rr76avrKV74ibyLBW0lA8Mdh9X8NLhPCQhdeSD+95Vbq5ImoH1ZwV2ZaXT6ZXJErfFaGbMPYb9sxIzyrYuTz0uL8MAiHbQ0sl7wNBgn4jyuzLaNU7IBw3ge8PHJpmay9cEOK0ycJb35955136Be/+AVdccUVovvzzjtPdmb/+Mc/ZIAtWLBAdmPXXnstffWCr9J5/+88uuaaq3nifoaaGvpx+XjeOr18EMYJ3i2WpDReQO0dQpAhfSWHCtVvt9FMdwZLa6u2uNA3XrclLqcpRtbHRuBJP6b4QaJr7Vv54vp8mDxZqZI8acQSpQNG+pnPfEYMe+zYsTRw4EAXoxVbGAMF19i45gaQb4899hB/FuCVwni98IEHHkj77LMP7bvvvkLwx2HfVf9+++1LHz3gABqzwxiWp16e/QX0Nkp5yLEa2rr607K2/rSibSAtZXdp2wChZaBWjxI8TrcK1I+WtoIszAQ/eIhz8e1dGAlBxzvXEN8KKoKMTQw722jmzJl06623ymq92Wab0fbbby9nJFilccmFCRe7NKzomKTHjRsn/fzSSy/Tf/kyDdXDsNKAvmhtbaNnnnmGfnH7bXT77b9Q+iVcL1yAfsF019130ZSpU0TWcoFJIVz9cmyBrZ3ct62DuM+4f7l/lgj1c+T1mxD3fUQcbnF86VPn9wjjYCX3b0cXdFK+zEDY1mqs4HV8vZxais6cWiG2anipILbpWBHGjBkj2zkYOLbVN910k6wAwAYbbED33XefGKxfRiEgDbb1xdL6/FBYDCZ54aBTRhiPWVuuy7kI1IEBPGHCBLmWP/fcc+UsYe7MKfSPO66g4Q1v0aajm6kNK4erM5TIwlIPl6eGiAGldSWboNJ01vWnWUuG0orGcXT8Zy+nAQOHiizYHd1zzz105plnyls6r7zqSjrppJPkvnYIbCx9iWQYmYzJSkvi9ddfl8unTTfdlD71qU/RXXfdJe8dw0EpXq383e9+l2bMmEFvv/22vNMNl0YXXXyR9PV55/MK/vVruM4cdXZ1uBJj1POytnDRQrr55pvoF7fdLv0D8cJ+SQUnwiSy5RZbyIsrJ05MeVmk9DMXiCY7Lw580Y8/+9nPZId55ZVXRv/cAbr5YOqz9PJjt1C/trdo1FDsPvFWHM7ObQDUSepXL6PEI6QpXSy+uFxXPdU3DaXXpuVoxFZH0X6Hf4benz6LLrv8Mnr88cdFr+effz5ttNFGyFkSGBc+yu1bH3U8wJKlBUBl6Oi99tpLtt94uTteMIj/2gFgloeRYJDC8LEK4CX7gwYNkvieBuRra9d/DYTtkSjH6xcYHJ4XlgHGcTDuo48+OjJuXBLMnjWDHr7/97TZ6EE0auRQnoELP7DgFe0Q+1CHDZEYPDB4gM9d0EILl9XRhE+eTEPWi40bq6MZ91VXXSW6TTfuGKgjrKucQYB6sW3GrgkGi1UckzN4p512Gv3f//1fdFmFtL/97W9kyz502DC67LLL6IzTz2AZO5jyH9yBMa9qWUXPPvcsvfjiS9SALStTjCJyciPxvu8Rw0fQQQcdJGPJ2oj2i0/615XhmDBu6A7G/YlPfEL8u+++uySBXt6dMokmvfQvGjygi8sezEV0SRFRmRGSISRAGqnTQavmL5cfaGhoosnvfEgDhmxM+xxwOH0wYyZdetmlkXHjsiercQMyhj1UauAljRsHaxDyqKOOkjD+n9aNN95In/3sZyWMa+9DDz2Upk6dKltyzJz4dzlibCWEQhqUj3/xg0GEycFH2EgJeTx4m3n3sOGGGzlF6woqfeSSZTHuObPn0H/+8x/5V0LDhg/XLb6J7spReO2JvJpAg2p0afjwww9pEq+Ye+29txgOZClk3NLuoJxYDB3ufnS5nY/yLc+7774rdzhw/T1kyBD60pe+JNfZ6Aukmzt3rvQ3aPzR4+m6666jnXbc0Vu1EwriEPYY+EELTtZDuUrLqXlyPHFoueg/lAjIt+gmWY5v3NiVwW+XhmjnlCnv0Px5c2mbbbal9TcYnVZEt/H666+JrnbaaSea+eEsNm6s3I9Vx7jlq3yBWXcYkOkEwPiwEgPgYQDgmhd+zPQYtCDADtP8MooRBhBW/u9973vy3mkQBppPxg/pergc/5vf/o46eCuHrTfUIAdV+KTUZ2SIwvyHwYQdAAB/J7cN/32kk/UMwmIuYeFB+SgHJ7r4kX88GIXv1RXVwZBX7WIlS4kLefLQhkdYAZHXKEqXUl4p8vPgrOS9994TGXB4ilcs4xYkgPhp06bxCvwijVp/FB144EfljENa7/LnE1ZqtAkTSJhOVOPI51tcwHM6lu/UPEky5PPrXN9hR6T9FKYJib8iF/mFLBwQ0nXiBYzcv1F+BwuDpWThAmR55MN+Id+fQmEZjtJPRTxgdXnhhRfEj0GBf8uCQxgAW7o//elP0QMr2ObBuAEUDoSzUAhMHtj245AHZJMFCGGczAvNmSP/D2oOz45Cc0D6/6H0/2IpitdWDMjptsMJmdkvYbgcj9tu7O/saKfWVS2sE7SV16to4Fj6JKCHUrooBu4u90l2aHeBVQ96BvDifOwgTE6ctWBHM+mNSXTQgQfR0eMnyBjAf2hRKfIBmXDa/cakN+jPf76P7r33PjmDSdJf6C/sJkl599zzR3r44X/QLJYp0b7KVefBbq95hcGbUrbVrNfj2Dvo/kFdpTgzk0sXwvo97v/8NHmQZPxVgMIypVxQgDo2rnyuBxjPIYccQm+++aYYLw5csO3Ggys4WcVhAbbmqAAHNNj2YnXHoc22224r2/higxDl4DYaXH/FMIhfwvllYOcwcNBA2mKLLTkJBp0zTg9p23JcYmBb/j//8z96zc2Tx5NP/kuu8/BvX3BLRpRicnDAaoec777Lq9lLL0v0jjuOoT15C4h/nhDd3mKEbcYEBp1g1zOct/6QxbblX/ziF+WfEvrb8jB/GM4K6fgCwOHV73//ezm8wnkK9ILdEraWkA3PH+A5Bxy0QTb0PbbjeLW+SmNlx3XgQG3x4iX001tu4q3+7bLrSJNdp6l84PfTmGAgE66ffflRjoX9Mm1bjrMDbMtxuObfscHdnDlzZsu2fPTo0cIrpl/sZtBX2Mlsv/0ONIB3pCouDCmpU3nykKf7l195iW1lHo3dZVfZll9y6SXumvtrvC2/gLflG3I6pEVBcV15utEKtA5XTZBC2Y4pokiROvb88kqu3DCY5cuXix8Vwm//qfLmm28WA7YCEQ9DweEaTlz9e+FpQHpMGLjVhtN1nHCCcOsFtOuuu8r/fsJ/j9h5553yaOzYXWjrrbaWsiBnsbpKwynU+RMluQB2mzNnfki//s1v5XHcSZNep9tv/yVNnTqNJ6aSqvTKLw+VtAt1lapv5coV0kd4mhDARDxq1CjRJR4zxnU4Bjr+7dLhHzuc+TrpqWEaJYFfsTU01tM2W29Lhx16OB166GF06CGH5hEWjDQ64ogjaP/99xc5AGt7qIMs7UvGx/nBVtIyIj/HLVq0UB7mwVOW9z/wgP7nTpc1zoNf6WGK0/zMdfFaRgLCcPHuo+G8lBEkVuphXyHiywx740vkOjKUHJE4HcdJOYAtNFY+PKGG218HHHCAnKI2NTVJPGZ/3Bf/yU9+IrfEMFiKIW3Q+kJikOF6ulMefuiidl4dI0IYfPbjAMw+3UOR/CxrG69m2G7iEOprX72ATjv1VFrV0kKPPPKoS1R9FDLssCMLA2mwowkpJ5dTy5cvkxUc9QwePEj6G5dhN9xwg/zTxC984Qt08skn06CBg0QHshInPhj7+g2gD7CbmnjcRPrhD3/IRnIjE9yYfih0o9IPQRx2hHiswnvvvbeUB/g6KKSPNPj6gRchI5x/8LARgswIIz3+M+iA5gG8uxrG46uDddSK7PkQMWDkKA2wklGa8TRkrvWZ1iVsL79C0jhjlUQIB2Q8uEKoQ/xahqHkgRruZeNfzGK7gxV2yy23lGtt3PdGJ+BBE/yLVHQG7n9jC3fiiSfKdm6TTTaRMtLKLka4rosOfaBFiOL80cdLL3ls0AX8kEKkpUkjXFtjpZs+Y7pMXJtvvpmcem+/3Xa8DfsQihSSj5cvCxlCvn/wFVJCRwFZWcWAaAyQjo72KPz++9PlkgsTNAz8jDPOkL5Fe1FXQ31DRHbQV1eHSx7zax/A379ffxrERt7cPJCNpVkMxqhZiHk8kTQPbJYxNpAnD9w+HTRosIRx2RS2y8jaHrY/RMRjF9MZp1KeR5BZH0Orl1vbONU+avx42pMXtH5N/URHlk/zIil/GeBlvtiYpQmszORA+SGsXKEozK58gniPZKzlucn0RVduJMCqjKfHcEKNhwNwjfqtb31L/pc0lIvra9weAR/XOhgYOP7H9YooBjWWgTB9luzl1pEJiSK1s7BzWbFiRSQUzgj68SDGPw7sneAZXmRPI524MZjXW2+I7H7wYBJWbEzQ6F+cBYQTtO9XY04jNibue5xOY/cl23l2jcDTuxFKel9fZaoEhfpfVje48m2upYXLJHkdjxNIm5g6ce7CsiEG+WLyP8pLpghh6ey7cFrhOJmLQ+V2Uis4WyLMKLkth4IwiHHIcsIJJ8ihyw477OBiUUednLKCj3vcSAdUYtjFULSkKlVjg6EQcD4wmCezlTBwBra1OFFeDw+lcDhTv6xmxKoRCSPCtfHgwYPlGYWzzj6Ljj/+ON5xnSAGjQkarv3bWYPvjw3cGTlT3r/vicj4oEZHzl8H0ufUy+nIQnKlIi9a6wnHp58Mh6NN3N8NvIMAUIWaJn+iyciI4YvvlWurtV9VnFPzQn5pgwQ1oXwH8sWwtAr3oJ3yPD6v5n4n5RM6J+QBFmfxxjM3LV8lxF+yDQJZfSFxbF6+mFQenww+D8r1wyFxar6WHETbbbctLV22lB7464O80j1NH/CWfO+P7J2aJ6SwTuP5COMrp6Asp8OIpLIcjRu3G115xZVySo7nDS677FI53MRzA8gX6diV4+s9j8TAQfH2XckMWo3aeI0NjeK3H15EslZAhpinW+0oHIwRyGl+pwzZcyxftkz+zTPu4EydMoVef+11WrR4EadD2VFSFK0kfFcOopzfBb0wlw8Xupc8TFqaxuPj+OGW288f85JlxxTzS67caUDGEMZLi+sWYHTsqMBwjbQBAueEKMCuAHpXs7GxSU7xDz74YHr4H4/QW++8Qx9xP26JVg9XacnVxMHSJdrjkLWMTEBRKE9cMLg+YXXJwSduxeFSSoGVCTKpXIZQPsCXW/zBh7kSF0K41jxzu4FQNm0m+k35qVVYFkms/8t7xcoV9Oprr4qqUCZ+Pbd40eK88ssH55ciVDL99oHVWxwh1V02JMuJUZFxrynI2OSvBKFphVoXoWSCTEApo0dvSGecfjqd9KkT6RMTjpbHcHEwlHhktRTQEHGcXF57NOj8Hi8riqc3AZOu3trBE1aVX/tWOvhRWxYK4Q/+knUjOi8Jl+oXzPHQ3VC+xNp3n33pnHPOlZ/BHnHEx2jUKJ708vRaos4Q0pfqKrBTZMdkZ9fzphYfSpAGXy9rlXED0I2SGYCLWE3AARCuu/fffz/evu5VpmGr8BBZDUld5UjIc0OqBvxRk0ngnofrxzTir4jyeJ5OhF8R/Hx6CIhTfJwpjRu3K+2661jaaacdZWfDtXOaZL1l65DLTysBk5P2DAxcfUCYFgjDCXA2P36tM+41DzxTn6OOTjzhhXvxbuMXaD11NZE0+GKyAQojt8EpDpfHYVChwZwFkiUBkwduimx5iA3KqKpAeUy6cVY/KNHmFErIA3IoKh+igmjLrvmUwi7zy0ScXpyFyKLLNAT5tIKA8KXSpSHiW3p8aRYBX2bobNGXyEdafBayR01B/OUOSiogyODIL1MJfO1CpASvEJL5ClH5h1YG84fxFZGUBGPCU4Vw1bAQh0MtfMxN/0AfCvEjs4dEXaUIOvcO13w/Dt20PCOXJiJfn/DHYYPJJ+Uy+QePcV5HLk1MMY8zePxk2O5E4E0zfrm1lbts2HwJ15tTPa92aXFYCnRCCOVwgfhLlJsOvwzzqxtThmJSgXL88m3VNCobkg/X+CBvBRZyu5gSlMjnygwBkT2xk/DSRxqS9NxW4RaCF5vjtKCCOYwfp0j2CZDSLyZ4ROCFxGWK4XPAuUJI76HeFNWXyEdafGlyAxOfiMdlRWPT55cm7TERhsnKsHLUtccjDaHfp1RIObFBJf0gTZQMJ+Gnx4MovpuF9IEWTl+MRC59sKUQ+emsHdJAB6uPvxByrnaO5WFBOOz8THIpJLmRLJaZQ+xKVnjFoKmLSXhxOqWY5yOK06o0zJdzkk7ikmR9jVI4uYTFRVmQUgTFF/wSkLRhObWVuwBYNyVgCdQV5ZoHjkWXQHo613FR52kH+ghn6VKQVckjLTOSmnnyLX4E0srPL0MRDipQPqwujnd1JmG8OF1Bkqc2mFCP/KnrA9LJPWH4+UsHOkyDt6vMkJ2t48f3juM2+QDblcR+3VYjrKmVL/WLDMotBCsrzp8PkcOTRbfetg13cY7CtD5qxu0BzzMDUKS8HIGVVpyQll1HqmiUEPV0BLA1KhiFBeAny5ajGKz2+HoMg1S7X3nitziVlGFuPuJy8tOk8cQO+UtXykItAj8LlYbKFssi17owDg7mn20ohVB54SpBH2LcuL6FgdfxtS6ernN8y5MGLV1SSl1p9fmweEsb5YkIkZKkIOp4m5RNW2sA+LUSSBuD1/4UVl4apP38pb/n5usbzou3eo4fP14MGa8Uuuaaa+RnqvhtOl5CMWIEnonHBqi861StCx2gYR+oF68KXrRwIR111Hgagl/L8bawraOD7vrDH+jMM8+ibbbdlq7G77lPOYW60GaDtN3r3LJQvAW+LvPLLreufIR9ZVtibIGrAdYID4sGWrBoIV115VV0y623ym/A8RsH+yUjgFeA4ffZ+B0EfuyDS4PuQw0fLgz77Xfektui++27P834YAZdesml8mrwCy+6kL56wQW04UYbOn2I1MgY6bxQvyI9qLK+16m7zwO/Rtpuu+3kRQx40cCiRUyLFzPBzUhLltKSBC1JELD5FlvIO9/cqCgMjkaSEqkENgB8GE/KkCgMjJB8lIpfuwGDxi/bsFCE/eITftdulBZfmBbLT2K32HxLmUASHef0Lx9npL6xljJaP225qOMGJ0dGL0JPrdz+m1iwcgP4xRd+u2vll6sUrYs7wgVCORGHd8w1NnA73GuKsHLffeed8crNK85JeBNLJ69wJgHKBPGWMg2ox+/8NP348YY0+aqNZB2YbNyWPEXGSgBt+yv3re4FieHKDeDNMpi8s+qnGNLKwJYf/YsfWeGdB5deqm8/tX+soS9IRL64rmL1Wh3d6Zd1fuUuphpfcTB2/P4YP4PU3xWXR/hRiR/GL658Ak+u6VEnrs/kmr6eGpvAUxnUccYs6WK3ENI63x98afGrC9aOWIY1Jwt+uuz3i99X5fa5n9/KQxkFXxPmXKXYXwhpk0clWPe35YEOoTjsBnDdhZdO4P9h4ZW0oOXLVyABx3fxdW/yN8fFCO85x9GF3N5wdaQjR628O5g3fwHNnzdfXt6PLTzKAHDLQ+TVEVC2KYT1FhtAflyxdNWD1QF3ddRXGtBXuYZULE8aP8lbvW3vA/e5kx2C2RUEw8a2CW+MwdYcP3fEu7NwqwHbR7vXGN1zLEp6UIS7kerXe7phOrx4cfKbk+U1Vaj32muvo7vv/iPHiWjRxCAfcT1eGQSk8X2Z0uQrxu8+9VS5Sgb85h6rtB+HNqW1y0cYF5Jfhg8/jYUhg915Afw0q5PW/W15MFFuuOGG0T++wwv5AGyvsK3CvwSGUhTqZp5no1/MFwZWSLysX14xxAR3jz33lDd9nn7GGbSje9EFhLZHCw3WYYUQxoWrscVbOYXIT9Md+PljP1yjKoKLY4nFi9dd45oXb27Ff4l99dVX9e05AaAfo1Lw25KWHv8OCy/MfPjhh+WEHOc6eCMrUA1dVoo6rnjN1JwB1ThQa2jA/5XWe7nIi9kXb1CB38iAGV9nXE4rfVi64wEMLF7wqYFl9Ds/HAioCwd39r/RAKSRe7DsRjN+Sj4faeX6COMBpBFyRmCbfoTDC4BibSiEUIYQWr8eqJV3k7EYMAk2yIn1D37wfbrjjj/QIL7+xeEVJk4Y9WGHHSb/Ignv24cMWdsDpLUpLT8mFPwPe0wqOFTDrhBvlcU/3MAbbc4666zolcqlYHWarOXIG6JPGXcpwPClPoDTYxhmAQwki3EXg7VLcgT5SrUZ8VZXWp1i0pwmq+7M2MuRvxS0/mobN4N1jpPw115/naa8M0XeWIp3wKEvMZHiFide3jls2DCRwdoU6iJsq68vPy5NJzi3wSUd/oe9PADFl30wcuTHa8dAmGyyIq3eSlAzbg92XYXrbKRfI8ZdII/FF2s/8ob5IZt8OF95unOfMtpQDFK3EA4Ps8uRCax3FhQeDXoyw4+6fZ6vB/NnbWepdOWWl4ZqlAGs+6flFaLKw68k0JHldCYGgFFpII1RVpROazKXIksrtifh7O3MBuiBvwvowmQA/DTqVzJd+lQJ/DavadSMuyDK7CBvLFS7g22ghYPP+D4S8b5QDJUo66Dl1EETEPQpK0wX4jBVc+ybru15/1DvCX0wOa7z+6Q7CnzMjdMrqtmnpVCNutYK406qODus27LkT3Z+eYpF6p7udn+ghYOuIKTxvCVll4c9B/S7XEhODLaQyoAmt/rzjTAfiDdKh5bhpeEweMXLVsN1yhFODFyIKR+ufVY3SusmG9b9lZv7pjqqWrvhmUDl+kizh8xwRiekYfGnwvhwjUIEPA76RpFmINEELpNj6Yak1dqTyDxpZ0Tf2JYXHEQxMBgqnjGr2ye9DnnN61Z7WcesZ7vVaHpPkJhV2BfKi9M5HjxhUgekM6jhGGVHgaLLhk0soQEX4lcDfcC4q6+0NY14gCul8ZQkqnpAeUbdgisEAspJt0cYkiK7u/MgjVCKwgniqAj5fS15PLdcdMfmChlukp+kMG13AG2u01D9VU9hawr+IC1E+QDfeYHIb4NpdQMCKEUyC6lhm0HHfEuncfEkEMeDojwlkSWNoZy0+ShkuEm+O8RzfKEgHKctH+u8cQsydXzvhQ3eYlQYGhcND6S1PFE2fxBVNpCyIpYVrlLUBlA9D0l7LiHiOYJf8mDYuonAK0epEMptW35aNbYsSNYVG2oXc9Oecbd7/0zyDL6mk/TRcwGg8tA3jHsdgRmBT+UhaQjyYW9+uS7JakDBNji5fCRlNCGN0qHGA1ecMmFGFWe28grDj89ffVVS+GG0hqT8nIu/NH13UDPudR4wBFsJ+c8jHVPmCSmJ0oO6MJDXz5800MII83QfcdtMJjGkMhHlLUKcKnLTUbg9FhOWV7isdNSMu0+ADanQB0ZW5ONDB1nlqDR/VsNWQ3ABRqHqwOeU8imE/DiEfUpDHN9dXVUDNePuM4Cp8gqeIPdxq2gh8qEGxAO3EnL5ewKJcktUgSYl24YMRgqOxZekzYq4qcmyKkWxyScLasbdh4EBXOxjCI1cDNzePJOFkN5GfmaogWheO1RKhxpTPiCyyR3LDzduIz7GEz471t78uJhCiJxOZkV+mtWNmnHXkBn+oJaBbAZbitjA4cJbCjYRGPHsEFAyXtKECOzK5PaNsxBpZiX/1lx+HNwklJPPrxzdK6tm3DWUDRlyYq/5hpZGSAxH/mWPBktACmdSg06W54y8QCEpNidIGiP8xYi/E8acjtjo/fQ9hfLLrxl3DWXBhlc0zMRgCxPiYYf2QwwJR24SNhFoHpDy4Y8N25hJ+IaWDWYsxag3oHJ5asZdDfSWcbC64Owuy5BLxEs+fDkD9QxVDVs8Hj+Oj/lGrv6yjTqG5e1OGasHlclWM+4aKkI5w03Smp3CRtWJWJVAyizDIKPJw6F3G3OIyrRVM+4aqoYs5hKt3IGxlYO1ySy7DzPs8vVVM+4aqoaiw48tUgy7JGC6ar7hthkfxOXwe9Hyx3qEnl21uyFYSZRXds24aygb5ZqGDcnIqOAGBqbG69yIcCvKf9jG+Tkux2641Tbo4ZtPdrru09qA7slZM+4ayoYNucxDL+tswEYbEw9NoRQ/CuQ/IN+QHUUfu5WWvKUWIo1XCapTSnUATdVQQ8UoNpgRZzvoKB0M1AErcCrEiI3MsI0Qr8kMsfF6P5GEK5Q0cIlLSpSHgnJlAHYWisLlry7UjLuGsiFjn0ldbJGTJhMRx8MF4q22ZSwDUo+R5jcDFKNNfMzI2S+u84OPj/A1LpYORWp5AOLTEOdNkiFuI8wqLq8wREsBxbDyMhWVgppx11AeeLDlZMAp6eBLEuIlDY9K+bAfH4QNkq+biAY/24RvbF3uwyH+wIhBQGhEvj8JvzyjbLB2WXuLtdNPE6Rlr+jM3ApQM+4aKgRGnRt89WpkYmjOVXIHYkKaFl/4VBcw4vhjvKTxqj9Ow9+R0ZpbPuK2xiRtTPC0/WVRnmlqueWgZtw1lA0MPh1rcHkIwXWvQtLBGRu0+eM4l7dq8I3S/Op6ZizhdOQbdmz0SUBsEd1FSVtSkNRBUg/5fCPlqUmCtDY1cguXB+SqoYayEQ1KMVpvoOL9Z+A5iscpfwlJ9h6EWR67Uq+6sanCFxpvzIv57MLPJEVoEkH5zRBBUsgMN1JSrEch41cG5K6hhu5BxiV/2ahPo9UNZ4h+5WafSuZTpBk1Ttvlxy9eOgWXibb2ctSMu0qQIRANkBrWHMzo4DrS/4Dg4MeHwMrt+rFgV3K+tKy9EGuFca9uXUp9Zdkpbgcp4d//FjLymvH3BHR04Js3sqkfiy1E8jgrgO4J+0iiXLxlWUtQW7kLAKZaLnRcFM65cuVKevPNN+ntt9+WfwxfQ7UQWp0Ly4320MABP8yxssV2fvfx4wXidf61BH3euLGa5q+ocRhRPhUCopSQEGnzE0+bNo2++c1v0k033URLly513O6j1I5gXd8x6KW+GWU64hj2Rdt0j8uF5JHEM7FfaC1DRcadbhDFUfkAc0qt4vj05beONBjfqmtqqI+okQnRaU3RErRcMfAULF++nF599VV64403opW7cr3E8OUH/PYBFh/y1xWgedJEuDZeGI7lOGqsyVj+5oyR/tgJ79krafTahjru7Ip6u7Ozk+bOnUvz5s2jxsZG6urSx/xMMZHCGJtuuimtt956LlQYoSioQ8oV7WbcKCOplxB3Y5qaGqP+MRnb2tpoxowZ9NZbb4n8u+yyC2200UZSp8jBaVrb2umDDz6glpaV1NDQSEOGDKFNNtlE8quo6RLJHSCnA18PTz/9NH3pS1+ikSNH0u9//3vaYIMNXEx5sDYsWrSIJk2aJO5mm21GO++8s7QF8fX19bRs2TK5BJg5c6b0AeKbmpoSMq0LsEdJZVKNugSeZDs1ivvE8cP+icD6Mx3zl2OufajYuDFwvvGNb9BTTz0lA8kvxldYc3MznXzyyfSFL3whVlgK0uLAi8strWQcZrV3dCbK8Y3b6pgzZw79/Oc/p3/+85+0cOFCkX/XXXelr3zlK7T77rvLhFLf0MCG8wZddPHFtGzJEho4aBB97IiP08UXXSgv80SaAk3huti4OBJ1oWyDb9y/+93vaPTo0S4mO9CGFStW0COPPEK//vWvZYJatWqVTBQnnXQSnX766dSvXz966aWX6Oabbxbjx44BExfiPvOZz7iS1jVgnGTZmaDT4o5LG4827hCXFr+2oGLjxoq9//77y8p2/PHH0+GHH06DBw+Wbee3vvWtSMkbb7wx3XXXXXTAAQdIuBBw2PTkk0/S9OnTZXACVoZJGErqYsXQBnHdR3zsCBoxYjh1cNhF5Rk3rnsvv/xymjx5sqx2//73v2WigsGde+65dN1110m6tvZ2uv/+B9gYTqEO9m/MK/ZFF19CXzn/y9TRac8qFwDnl9UbD3R4A6QaK/f8+fPp7rvvpl/+8peySmPyxATbzjKiD6D71tZWubbHJDB8+HCZCMD73Oc+RzfeeCMN4olq3QUMU110umregFCSkwb0v409f3Je68CNKBt8vZh75plncrxNzU2YMCHHW9scG2eODT43ceLEHA9maCbHAyv3s5/9LNfS0pJjA3S508Fbx9xxxx2X22qrrXLbbLNNgrbeujBttfXWuS232jp30MGH5F546RWpZ1VbR66ltZ2pLdfa3h7VDZcnn9wpp5ySu+OOO3L3339/bvvttxdZBw4cmDvttNM0HdOCBQty13/72xKHOXDnnXfJPfbYE7lOLqOVy29tL0Sduc7OLqkrbDMbd26PPfbIHXHEEaKrSsArde6GG27IXXrppdIHt99+e44nKZFzzz33zP31r38VPht37vHHH8/xxJobO3asxKPdS5YscSX1baT1jwF8jHG+RHOctRMVrdw4DHruuefo+9//Pl144YW07777Eg8auuKKK+hXv/qVrMJYHc477zy67LLLaOjQoTITFtviYOvIA5NmzZrF17cNidkzFFGDxtN7y6jjyPFH8fZzQ5YPW3ONxQrayOWhbu40Wc2w2+BJRA62jj32WAkjPxs3/fjHP5b63ucdxFVXXikrLGbvj370QN6B3M2r7Sguvyv5XAQD0uBaDvXGURquZyHAK7Vyl9IR4nmilNUbOsJW+09/+hOdc845cnlx4IEH0ne/+105P0A7Uc8TTzwhfTRlyhRJ953vfEdW/L6McDwBvt4Rb2nW1pUb4ldk3DASbGVhiNtuu60cTvEKLdfguMWDQ5sjjzxSrvlwAJUFEAOTAiaOUNGlIA1hA+rXfwDn1c5AGdxFcu2LU264BpSJbezDDz9MJ5xwgsgPQ7mYr68vuOACiX/99dflGhXXrryq86XHibwVvp1z4zCNSw5sEDLAiN9/7z366U9vobffepOaBw1GjNQNeRYumE/PPvss9e/fXy5psKWWspigU7R9t912iyaANCCt6Qe6vu222+iSSy6R/Mccc4zcZvN1fs8990h5mEiuuuoq+vSnP+1i+i6gwzSYXq1PEDbe2gQ0D/JXNC2hwVjpdthhBzld/tvf/kY/+MEPaPHixTLT4XAK134YZIUUmQas9igXJ+tGCJeiYcM0TyNPKjBoQOqVuvPrh/x2WwqGDaAcHKYhDm2aPXs2vfvuuxI3ZPAQGsNtbeBJgndswosRdz7W5xUrltOLPCE8+vjj9K9//Yvp3/Tkk/8SeunlV6Re6Onpp5/hVfVJWVmRDucNoFdeeUWujwvBH2w4JYeMkBcT0JZbbhntBtB+3M14+eWXZSJG23BNXkOMYmPT1/PaABvuOG5Cu+Cv+EAN2TCoXnvtNTr11FPlgArACTAOfLBFxGqSdVuDsrDdxLbT35YXEk/4rH88OgiDa2hs4IE9WnYNqFc7Rw+2UF64cr/HKyy2q3/+859lm3rQQQfRnXfeSaNGjZJLDJxmn3/++VIWJrEbbvg+HX30USynmz5QtxSGLwPvPng7jNtPS7mMxPaX009+YzJPgjfyRDJEVlFMKH774McB2I477iireym88MILcin00EMP0eabby7t+fKXv+xiiR599FHhoQ+uvvpquQSpQZE2rsyg/bjebOTJsYMv+XMuvioAD3ghHDoddthhrljKDRs2TA7QeHsZpfPdYpgzZ07uzDPPzPF2NXfAAQdEhHAp2m+//XMnnvip3CuvTZIDLxyorWpnYreNXfBC8Iomh3WQm40sx0aR4626EBt+jrfkUbv23nvv3LRp70o72ts7c+0dXbk2JhyeoQ7/QK2to1MO5NKgB2p7yoHa3LnzHTcdGVSW48uK6EBw3Lhxufvuu8/F5HI8weTOPvtsOWz7+te/Hh2kZemLvgToI524H4VYX0ZrGLEoXXJoywuiUAePxQ4edzI2mdraQB25irfl2F7iGhtbSoSxpT7rrLPkXitXTi+++CI98MADUfpSwOq6/vrry8qFrSUI4TQatYHRBkIjebUdyvmw2mFrLPVhyBeAPcACArClx6UEVlrkBf/BBx+UOJS5+eZb8CXGxhKH62rWM5evuwqryqoDD7fKEsT6cP/oUuK5b2SnImk7cK0N6hQXOwPExyWmA3nRB9jtADyxRtfauI+P3RPacPDBBxNPmvIAjsrbe1eiXgHWEfRk/3oYP/uEyzal4dUMEcEjjA0eTiKP+lUuDJlITvlI5vKB214/+tGP5FYXihgwYIDcZvnggw8knq9Xc7wtz33yk5+UcBawweWmT5+e4+293FoDvfnmm8UJaZgmT34zN2XK1NzylS26ajOl3Qoz8DWo7DAgO4i33blHHnlE4qZMmSK35NgIcrydzY0cOTJ32WWXSRnz5i3IvfLKqzJTtvEMiZXbX7WNTAYjrOY80eaeeurp3G677ZHja9/czJmzZPbFDCtlsQuC32bgds7Hk4PsPMLdB3YYv/71r0X3aMMxxxyT+/DDD3lHMFdulfH1d+7II4/MPf/88yJ7qIMaFKYbIZ5Zu3jXCersaGdqY3+b8/M44njOoRl7GlwNugxVCvFmGONOdo027tyYKXRrtqyVm6uUU2YcAn3ve9+TAx08cPLxj3+crr32Wlk5cHjzk5/8RA5y8MhjVuBaGenHjBlD2223XUS8daatt95aaCv2g7Y0Yh4IvE35mrOxsUlkBEXw/Q6Ix8ppwCk9bhXhJPvSSy+VB3T222+/qKxVq1rlAOzss86mW265VXgNuJivAsQyPRnhxwO33K8yK7NRs6y88jNBZh6EmoZd9AVO2AHo/b///a/cCvvpT39KvE2n66+/XnYkQG3FLgH0gSM2K88P18Kq+x6BVmfVyEqM/kd92EVgPIgfJKOGgS41SkFZxo0BhWexcUiDJ8mMB8O48soraeLEiXI7Bo92wlixJQSyKsQGoLlRY5iksXCh55CgEKGg0QywkM8HTpZ32mkn2eID2MbCKHCAhjLwlJoZN243YYuLR1NbVrUQ71Bkaw6D00qlCAG8keITwG05hXRNmMTk9eT2/VIuZxI9sALQ6biEwBOBdvCGW3Z2uIZ+wP1sGLhdatRQBNKPStp/Rj58fhjXDXBRqNqMWSd07WftcyRxH+fPioZrGM6fCbjOe+edd8Q4cHtl7Nixcn0MYXAqi2tvnC4jDs+U41qwksHlG7iCw+WWw+mRw8+FckG4tscJM4wXRoIdwoQJE+QRVBgFDB8n91gZcYtpwoSj5SQaK6HKpGVHqOPrWTj4sEdJ64Ifp/WYEO+9914awvVNPO44cXnHJfElwYlQA2pG/SgXho2VHc+W41zg4EP4+vqLX5THgSGz1V9DcaDPFMUNR3SZ0Gn5uo2GM8B+68/IkOHKR+MS32VWV9atMCTFYRQeXoExWyPtcAgAT249saFjmw5/pQMMdVjZMrBRTmZpGZycGyi3wyAPCLJIeUx4iguHZ2gTVnPcBhsxYkTUTvyaCvek+bqWjX0DjhsZzahWjggUiiVyog4JSBB1z541k/764N+puXkAHfvJY2nQ4EGyA0B8VmiZUiVPPO20cMECmj9/nuyUMGENZ/mb+PJEnorjgivVfV+B9CXrVPqSt4G+WeXB6RMvgdQeyK5blG/jQRyE4YqXfRbmIhGUkrvZdRXf5wZKZe3uwKqWcSNbg2fcpeC3C+k1bPk0DixNhq/8IaEyIxHyuQmlq5NaW1dJwuboxxtq/MhbWjIfmjpqjgqjMrAfcjcwoc1lFtxnEPUzXPSPhI1SwPqsxLil74Vc6c41YJxU2kUohyWKZLcw0C3j7ml027gZ+A2LrN6ecWc18CzpAJUvFk1VyiSGrXxhMaxIhLUODQOShsPKwrfLlAJNqimlfmSO8qoL+fXRV9051JCE6ExIQhrW3gIjgqhWFSpkr3JWLRdG1C/i1+tq6yfhMVkJvr9sQBYrW8L44w8zHKf3oRrGDXBOab9v4MqvLlQ0ldXKFh5/mWtAKl/16tVw2CMqLr689M7VmlCWBBTshxftRNsB8aP9lqYG1b+QBKBFeBylAB0RvaO98GQp41WKwEEwe/SvUKketC/ToOUprAtlXMgXeNbTGi+isiCl61xDqJZxA9pgDHB9EEU+UIBGr1agCdIMtCtoj97yUH9e14i8kDjgF4CkFZ0hvZaLtssktyYa3ssQ6ReukARYZ46fABTm9IlxBDeAFgM9Y7xqeVGxmfSNRJIzgnAiBqxAoRM35EAAf04mS8CZ+oxxG6AAHdyqGOgCbgjUmdaBPQk0TbduWj845ld5kEplUtmQphhchzOsDM3D1+PQQQOGhJXYNyE6ETWaLmMDinnR/of/NDbSK8glMx0LCUPjJWVcaCosPZAcd1EJ8i3kouH6aZP5OMyCuCJ7H3rCuAEoQbfonoFrlCBUSai0ngRqRvUiAdotfnyp34UYKlNp0RItc2UotP26ivfVldzv63wVWJyL8ZSNGO0bDcgYBUnY+khRrI8sv4DT6XSLPFan/InHLgQQVbrfOQ0L5MvRq9BTxg2UMnAD6l6dxm2Imske9cOjxilbd3AkAl+uAQ6+tJKEEfPgiwcfBpPoQojDfuYaUmFGbLusmKerfr7O8yFp+Ev1rSnVq/3hsaM+geO8mdBnjRswA0ex/jYdVZSjxNUJ0YXTQReIRxh4kN2kD1XktwVt1vyaTnKwRw1c9YAJr4YkzExiV/VvftN6Kc1JKv6K+8vGnvrhOG8CKayS6NPGDcgsGZEqWvio0fkByOCHewOgChlk0A+78cBLMXb+Ak/bAAPHAxuawgdrQYwc6WpGHusUkHEo5MLQo/NlgxmxpoeubUxJ3yhT3Sqgzxt3BFGqKhvKRVVm6BoHngv3MsgKwnqBavzBJxDdOQacDE2wtoJsR9MXoeMOHvzhS3Vr4zGLLhWmw3h8SSiliGrqumbcKRD9iuK9zkDY+a0DEO5tEPXoOHR+DEjoDy4YDqVE57Rm3HYu0ZcAVYneRI9Ody4sKKAPi1b9waO6i8dOcgz1JGrGbYCyU8qWPnA9oX5e0eGwGxq3Hw7j1gTQs0raMBusaKg4xUTULM6wlfrKLh1NN135/kgpmaE6U/2ZutW/OlAz7gqgHQWJXC9JGK5xlCEhZahfPearOqwr0yYWRClhoDrjBr+IQhHjtahPrOJoM/STdxLOlNduX3USp7pxXukH+CUMdzUoDnIaasbdDSS6ygXUsRgIiw53BmGdLdHqF595ehjS00zQpupUeXBdBMTKg+bD4I636XIesZrkXl0QnXBbxbDxQbvBN90AfrOZB3/Un4hzejHDXh1QOVVGFVNlrxn3aoJ0NDrc9bh0PQdsqxsNBrCF03OIBy2+dCBAw77BAyarhB3TDFzcdWQVNxOAE9158Phxn7hv12Y4zis86cPVoBAnlXikx1RYc4QH2WvG3dNAXwcyQ+MyBKIBAa8ExC+rokZrGgn1HES/GBT8ZQ/IGMwvMrgA/DaQ5Vn9nhawBxG33fmN59ok/QI3aqP2EWBnL0BPGTVkQdlwNcwkPvXrF3jaDvGzB97eb9xMcKHUnjfucjqoAkFQvI0aQVAGR2EwRYbjePXCkxQC318tRIPH+RE0fwIuaIPZZIWB94RcPQlpo7UVrvCsgfplbdKgBvANr7rKqyZ8nZs/klP8wuGP1a1xIXq9cQtZw6DIHpO23E6qRBCrw6/LL8fzuyQwcXjN2MXlJUP4fjFVBiTRAaXv9RLJfPFQuRPA5FpbDFxGPFPURnMlgiHtkFbxR1dOa1fUPPCct1qw+hMu/iAbwsJTNwt6tXFDNFu5tVHVVmeIcsqvRG1WfliPleWViSRBEF8YUvE1r0QJdDBWH+gDTK76mKtjAl59Mvid29sNXMaRkJuwGLp4qBEDcNAibRO+5E/g69k3HfD9MrLCLwNekUt4pm9zMc0glB292riBaGsuYhZQnLSgVDM0r5+qvG6IUbnCrEa/ZiutQKlB0qgE9mAgIQwXh1sKGL7zlgEbBmmDE1E66Jwb8dXvy4HsauAVCNHDsOfwo7Y4GREGVH5rC5NzgbT2+PmywNL7EDn4S6Ni2VwIvRnr27lZ0euNG+LBuLXFKQpGk+UvSzNMUXE5rIAoJ7jwSyw6zI/wICqTDrUE4DlPSQSFCTJnFohoEIG/bGDBsRUdh1yox0VVFagX7Y8MxfEBDETUqeRPOGseKnN8iQdphQ9Zxed0xz7VozAjtzuQ8eK5gOqOC4c+8UGc/iEymnis+jhndvR64waKiShKUo1IuDBUTaJQg8sn+VEOO4gVn1+cl0XAitfUKSgiayxDPsLZv5xuUSMXn5TjG1bMl2BVANFM7+IaM4JOOnI/3L92WENQWdW4VV5WhlOI6l39suNwuqqGvlCXwWQAC1yVw8FXHSMKQoYgrhysFcZdbViDRXcu4GshVEkcNI9eh8KNx0DcE8ncDMfQHED+yAmNGyjZNZwl7Y1AauDii/wIWh0uqiqAiDJQIxKu1il1r1kDT8rmKUsFhIYcw8krroYrgV+H1ik+cS0Ojv1c1If1D5CQNSP8/ERE/x93Icr0ucZVFQAAAABJRU5ErkJggg==)"
      ],
      "metadata": {
        "id": "NKP8vx2Z_iEq"
      }
    },
    {
      "cell_type": "code",
      "source": [
        "u = [1,0]\n",
        "v = [1,0]\n",
        "z = []"
      ],
      "metadata": {
        "id": "2klo9uy8Beyo"
      },
      "execution_count": null,
      "outputs": []
    },
    {
      "cell_type": "markdown",
      "source": [
        "The following 3 lines of code will add the\n",
        "two lists and place the result in the list 'z'."
      ],
      "metadata": {
        "id": "Wc6AXUy9BX8o"
      }
    },
    {
      "cell_type": "code",
      "source": [
        "for n, m in zip(u,v):\n",
        "  \n",
        "  z.append(n+m)"
      ],
      "metadata": {
        "id": "gf-VnKKX_Mjl"
      },
      "execution_count": null,
      "outputs": []
    },
    {
      "cell_type": "markdown",
      "source": [
        "We can also perform vector addition with one line of numpy code."
      ],
      "metadata": {
        "id": "Bu-sOfgqB9Yt"
      }
    },
    {
      "cell_type": "code",
      "source": [
        "u = np.array([1,0])\n",
        "v = np.array([0,1])\n",
        "\n",
        "z = u+v"
      ],
      "metadata": {
        "id": "4hxfg_FRCCeB"
      },
      "execution_count": null,
      "outputs": []
    },
    {
      "cell_type": "markdown",
      "source": [
        "It would require multiple\n",
        "lines to perform vector subtraction on two lists"
      ],
      "metadata": {
        "id": "aBhnF2HjC-t1"
      }
    },
    {
      "cell_type": "code",
      "source": [
        "u = [1,0]\n",
        "v = [1,0]\n",
        "z = []\n",
        "\n",
        "for n, m in zip(u,v):\n",
        "  z.append(n-m)"
      ],
      "metadata": {
        "id": "gA4mlFRtDMSZ"
      },
      "execution_count": null,
      "outputs": []
    },
    {
      "cell_type": "markdown",
      "source": [
        "**Array multiplication with a Scalar**"
      ],
      "metadata": {
        "id": "LLx0bYGEGJrM"
      }
    },
    {
      "cell_type": "markdown",
      "source": [
        "![image.png](data:image/png;base64,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)"
      ],
      "metadata": {
        "id": "v4nLXYsuGezk"
      }
    },
    {
      "cell_type": "markdown",
      "source": [
        "In this case, 2. Each component of the vector is multiplied by 2; in this case, each component is doubled. Vector multiplication with a scalar only requires one line of code using Numpy."
      ],
      "metadata": {
        "id": "2EoUfxPSGoTz"
      }
    },
    {
      "cell_type": "code",
      "source": [
        "y = np.array([1,2])\n",
        "z = 2*y"
      ],
      "metadata": {
        "id": "kfqTGNppGQ6M"
      },
      "execution_count": null,
      "outputs": []
    },
    {
      "cell_type": "markdown",
      "source": [
        "Hadamard product is another widely used operation in data science. Consider the following two vectors 'u' and 'v'. The Hadamard product\n",
        "of 'u' and 'v' is a new vector 'z'. "
      ],
      "metadata": {
        "id": "2HGykGspJTYJ"
      }
    },
    {
      "cell_type": "markdown",
      "source": [
        "![image.png](data:image/png;base64,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)"
      ],
      "metadata": {
        "id": "uQP1GU3FJimw"
      }
    },
    {
      "cell_type": "markdown",
      "source": [
        "We can also perform Hadamard product with 1 line of code in Numpy"
      ],
      "metadata": {
        "id": "dufk3LjOJ8Xf"
      }
    },
    {
      "cell_type": "code",
      "source": [
        "u = np.array([1,2])\n",
        "v = np.array([1,2])\n",
        "z = []\n",
        "\n",
        "for n, m in zip(u,v):\n",
        "  z.append(n-m)"
      ],
      "metadata": {
        "id": "PHtBnXjiJSLV"
      },
      "execution_count": null,
      "outputs": []
    }
  ]
}