{
  "nbformat": 4,
  "nbformat_minor": 0,
  "metadata": {
    "colab": {
      "provenance": [],
      "authorship_tag": "ABX9TyNtRlVXfoFwV0RbOrU1FulK",
      "include_colab_link": true
    },
    "kernelspec": {
      "name": "python3",
      "display_name": "Python 3"
    },
    "language_info": {
      "name": "python"
    }
  },
  "cells": [
    {
      "cell_type": "markdown",
      "metadata": {
        "id": "view-in-github",
        "colab_type": "text"
      },
      "source": [
        "<a href=\"https://colab.research.google.com/github/PosgradoMNA/actividades-de-aprendizaje-JulioOsvaldoHernandezBucio/blob/main/Semana2_Actividad1.ipynb\" target=\"_parent\"><img src=\"https://colab.research.google.com/assets/colab-badge.svg\" alt=\"Open In Colab\"/></a>"
      ]
    },
    {
      "cell_type": "code",
      "execution_count": null,
      "metadata": {
        "id": "Jq15R_xckEx7"
      },
      "outputs": [],
      "source": []
    },
    {
      "cell_type": "markdown",
      "source": [
        "# ***Reading files with open***"
      ],
      "metadata": {
        "id": "7weY9AGGkaEc"
      }
    },
    {
      "cell_type": "code",
      "source": [
        "File1 = open(\"/resources/data/Example2.txt\", \"w\")"
      ],
      "metadata": {
        "id": "tPyGcz2olFUL"
      },
      "execution_count": null,
      "outputs": []
    },
    {
      "cell_type": "markdown",
      "source": [
        "The first argument is the file path.\n",
        "This is made up of the file name and the file directory.\n",
        "The second parameter is the mode; common values used include 'r' for reading, 'w' for writing and 'a' for appending"
      ],
      "metadata": {
        "id": "A3AYsMXwl65Q"
      }
    },
    {
      "cell_type": "code",
      "source": [
        "File1.name\n",
        "File1.mode\n",
        "File1.close()"
      ],
      "metadata": {
        "id": "1bC4I3jIl6Bs"
      },
      "execution_count": null,
      "outputs": []
    },
    {
      "cell_type": "markdown",
      "source": [
        "We can now use the file object to obtain information about the file.\n",
        "We can use the data attribute name to get the name of the file.\n",
        "The result is a string that contains the name of the file.\n",
        "We can see what mode the object is in using the data attribute mode.\n",
        "You should always close the file object using the method close.\n"
      ],
      "metadata": {
        "id": "hm271MAOmSNE"
      }
    },
    {
      "cell_type": "code",
      "source": [
        "with open(\"Example1.txt\", \"r\") as File1:\n",
        "  file_stuff = File1.read()\n",
        "  print(file_stuff)\n",
        "\n",
        "print(File1.closed)\n",
        "print(file_stuff)"
      ],
      "metadata": {
        "id": "die7KykMl0o1"
      },
      "execution_count": null,
      "outputs": []
    },
    {
      "cell_type": "markdown",
      "source": [
        "Using a 'with' statement to open the file is better practice because it automatically closes the file.\n",
        "The code will run everything in the indent block, then closes the file.\n",
        "The method read stores the values of the file in the variable file_stuff as a string.\n",
        "You can print the file content."
      ],
      "metadata": {
        "id": "nyaLS1-QrMSY"
      }
    },
    {
      "cell_type": "code",
      "source": [
        "with open(\"Example1.txt\", \"r\") as File1:\n",
        "  file_stuff = File1.read()\n",
        "  print(file_stuff)"
      ],
      "metadata": {
        "id": "74cQzsoOrQEa"
      },
      "execution_count": null,
      "outputs": []
    },
    {
      "cell_type": "markdown",
      "source": [
        "We can output every line as an element in a list using the method readlines.\n",
        "The first line corresponds to the first element in the list.\n",
        "The second line corresponds to the second element in the list, and so on.\n",
        "We can use the method readline to read the first line of the file.\n",
        "If we run this command, it will store the first line in the variable file_stuff, then print the first line."
      ],
      "metadata": {
        "id": "gAwVqg1xshNs"
      }
    },
    {
      "cell_type": "code",
      "source": [
        "with open(\"Example1.txt\", \"r\") as File1:\n",
        "  for line in File1:\n",
        "    print(line)"
      ],
      "metadata": {
        "id": "jMLhqJFitGmb"
      },
      "execution_count": null,
      "outputs": []
    },
    {
      "cell_type": "markdown",
      "source": [
        "We can use a loop to print out each line individually."
      ],
      "metadata": {
        "id": "wK3oDOgVtc3G"
      }
    },
    {
      "cell_type": "code",
      "source": [
        "with open(\"Example1.txt\", \"r\") as File1:\n",
        "  file_stuff = File1.readlines(4)\n",
        "  print(file_stuff)"
      ],
      "metadata": {
        "id": "PPlxXOdRuagy"
      },
      "execution_count": null,
      "outputs": []
    },
    {
      "cell_type": "markdown",
      "source": [
        "We can specify the number of characters we would like to read from a string as an argument\n",
        "to the method readlines."
      ],
      "metadata": {
        "id": "ftKAEsa6ugl6"
      }
    },
    {
      "cell_type": "code",
      "source": [
        "with open(\"Example1.txt\", \"r\") as File1:\n",
        "  file_stuff = File1.readlines(16)\n",
        "  print(file_stuff)\n",
        "  file_stuff = File1.readlines(5)\n",
        "  print(file_stuff)\n",
        "  file_stuff = File1.readlines(9)\n",
        "  print(file_stuff)"
      ],
      "metadata": {
        "id": "pljnGXehut81"
      },
      "execution_count": null,
      "outputs": []
    },
    {
      "cell_type": "markdown",
      "source": [
        "We can specify the number of characters we would like to read from a string as an argument to the method readlines.\n",
        "When we use a 4 as an argument in the method readlines, we print out the first four characters\n",
        "in the file.\n",
        "Each time we call the method, we will progress through the text.\n",
        "If we call the method with the argument 16, the first 16 characters are printed out and then the new line.\n",
        "If we call the method a second time, the next five characters are printed out.\n",
        "Finally, if we call the method the last time with the argument 9, the last 9 characters are printed out."
      ],
      "metadata": {
        "id": "wsoDypsivH9y"
      }
    },
    {
      "cell_type": "markdown",
      "source": [
        "![Captura de pantalla 2022-09-27 160446.png](data:image/png;base64,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)"
      ],
      "metadata": {
        "id": "rBJ-mBgSw75Z"
      }
    },
    {
      "cell_type": "markdown",
      "source": [
        "# ***Writing files with open***"
      ],
      "metadata": {
        "id": "ST99p6Ogx9tl"
      }
    },
    {
      "cell_type": "code",
      "source": [
        "File1 = open(\"resources/data/Example2.txt\", \"w\")"
      ],
      "metadata": {
        "id": "tvamyx-kvHQ6"
      },
      "execution_count": null,
      "outputs": []
    },
    {
      "cell_type": "markdown",
      "source": [
        "We can create the file Example2\".txt\" as follows: We use the open function.\n",
        "The first argument is the file path.\n",
        "This is made up of the file name; if you have that file in your directory, it will be overwritten, and the file directory.\n",
        "We set the mode parameter to 'w' for writing.\n",
        "Finally, we have the file object."
      ],
      "metadata": {
        "id": "gCHc8fnsycVU"
      }
    },
    {
      "cell_type": "code",
      "source": [
        "with open(\"/resources/data/Example2.txt\", \"w\") as File1:\n",
        "  File1.write(\"This is line A\\n\")\n",
        "  File1.write(\"This is line B\\n\")"
      ],
      "metadata": {
        "id": "74nTiCbpx6pg"
      },
      "execution_count": null,
      "outputs": []
    },
    {
      "cell_type": "markdown",
      "source": [
        "The code will run everything in the indent block, then close the file.\n",
        "We create the file object File 1.\n",
        "We use the open function.\n",
        "This creates a file Example2.txt in your directory.\n",
        "We use the method write to write data into the file.\n",
        "The argument is the text we would like input into the file.\n",
        "If we use the write method successively, each time it’s called, it will write to the file.\n",
        "The first time it is called we will write: this is line A with a slash n to represent\n",
        "a new line.\n",
        "The second time we call the method it will write: this is line b.\n",
        "Then it will close the file."
      ],
      "metadata": {
        "id": "zLDTyeHG20_u"
      }
    },
    {
      "cell_type": "code",
      "source": [
        "Lines = [\"This is line A\\n\", \"This is line B\\n\", \"This is line C\\n\"]\n",
        "\n",
        "with open(\"/resources/data/Example2.txt\", \"w\") as File1:\n",
        "  for line in Lines:\n",
        "    File1.write(line)"
      ],
      "metadata": {
        "id": "lsWwwfRY6sOf"
      },
      "execution_count": null,
      "outputs": []
    },
    {
      "cell_type": "markdown",
      "source": [
        "We can write each element in a list to a file.\n",
        "As before we use a \"with\" command and the open function to create a file.\n",
        "The list 'lines' has three elements consisting of text.\n",
        "We use a “for loop” to read each element of the list lines and pass it to the variable line."
      ],
      "metadata": {
        "id": "DFgeyzIJ70_m"
      }
    },
    {
      "cell_type": "code",
      "source": [
        "with open(\"/resources/data/Example2.txt\", \"a\") as File1:\n",
        "  File1.write(\"This is line C\")"
      ],
      "metadata": {
        "id": "mD5JFuuW8aVO"
      },
      "execution_count": null,
      "outputs": []
    },
    {
      "cell_type": "markdown",
      "source": [
        "We can set the mode to appended using a lower case \"a\".\n",
        "This will not create a new file, but just use the existing file.\n",
        "If we call the method write, it will just write to the existing file, then add: this\n",
        "is line C. Then close the file."
      ],
      "metadata": {
        "id": "zm8wMwBb8ZwJ"
      }
    },
    {
      "cell_type": "code",
      "source": [
        "with open(\"Example1.txt\", \"r\") as readfile:\n",
        "  with open(\"Example3.txt\", \"w\") as writeline:\n",
        "    for line in readfile:\n",
        "      writeline.write(line)"
      ],
      "metadata": {
        "id": "pqUx8ABr8-Ve"
      },
      "execution_count": null,
      "outputs": []
    },
    {
      "cell_type": "markdown",
      "source": [
        "We can copy one file to a new file as follows: First, we read the file example 1 and interact with it via the file object \"read file“.\n",
        "Then we create a new file example 3 and use the file object \"write file\" to interact with it.\n",
        "The “for loop” takes a line from the file object read file and stores it in the file example 3 using the file object write file."
      ],
      "metadata": {
        "id": "Fk3I5kHN972r"
      }
    }
  ]
}