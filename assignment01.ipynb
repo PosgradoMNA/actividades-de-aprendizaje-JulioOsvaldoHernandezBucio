{
  "nbformat": 4,
  "nbformat_minor": 0,
  "metadata": {
    "colab": {
      "name": "assignment01.ipynb",
      "provenance": [],
      "include_colab_link": true
    },
    "kernelspec": {
      "name": "python3",
      "display_name": "Python 3"
    },
    "language_info": {
      "name": "python"
    }
  },
  "cells": [
    {
      "cell_type": "markdown",
      "metadata": {
        "id": "view-in-github",
        "colab_type": "text"
      },
      "source": [
        "<a href=\"https://colab.research.google.com/github/PosgradoMNA/actividades-de-aprendizaje-osvaldosun97/blob/main/assignment01.ipynb\" target=\"_parent\"><img src=\"https://colab.research.google.com/assets/colab-badge.svg\" alt=\"Open In Colab\"/></a>"
      ]
    },
    {
      "cell_type": "code",
      "execution_count": null,
      "metadata": {
        "id": "LzUSMM79NR9P",
        "outputId": "0e6cb421-1096-426a-b31a-f61d059def81",
        "colab": {
          "base_uri": "https://localhost:8080/"
        }
      },
      "outputs": [
        {
          "output_type": "stream",
          "name": "stdout",
          "text": [
            "assignment01 for GitJobish03 and edited in git, and 18\n"
          ]
        }
      ],
      "source": [
        "print('assignment01 for GitJobish03 and edited in git, and 18')"
      ]
    },
    {
      "cell_type": "code",
      "source": [
        "##thisisacomment"
      ],
      "metadata": {
        "id": "mxM_WppZPMFx"
      },
      "execution_count": null,
      "outputs": []
    },
    {
      "cell_type": "code",
      "source": [
        "##First Program"
      ],
      "metadata": {
        "id": "kVYAGCyqE_KU"
      },
      "execution_count": 1,
      "outputs": []
    },
    {
      "cell_type": "code",
      "source": [
        "print(\"Hello Python 101\")"
      ],
      "metadata": {
        "id": "Mcv_jfIiHHH5",
        "outputId": "ec03ea55-02de-48d7-ae6d-15e6ce0f5bd5",
        "colab": {
          "base_uri": "https://localhost:8080/"
        }
      },
      "execution_count": 2,
      "outputs": [
        {
          "output_type": "stream",
          "name": "stdout",
          "text": [
            "Hello Python 101\n"
          ]
        }
      ]
    },
    {
      "cell_type": "code",
      "source": [
        "#Syntatic error: Frint(\"Hello Python 101\")"
      ],
      "metadata": {
        "id": "TJscZVoEHn0q"
      },
      "execution_count": null,
      "outputs": []
    },
    {
      "cell_type": "code",
      "source": [
        "#Semantic error: print(\"Hello Python 102\")"
      ],
      "metadata": {
        "id": "-91MMvCvHyyg"
      },
      "execution_count": null,
      "outputs": []
    },
    {
      "cell_type": "code",
      "source": [
        "print(\"Hello\\nWorld!\")"
      ],
      "metadata": {
        "id": "ac-uAK2dIQ1r",
        "outputId": "dba30d42-301e-4170-b257-c1c705bfa81f",
        "colab": {
          "base_uri": "https://localhost:8080/"
        }
      },
      "execution_count": 3,
      "outputs": [
        {
          "output_type": "stream",
          "name": "stdout",
          "text": [
            "Hello\n",
            "World!\n"
          ]
        }
      ]
    },
    {
      "cell_type": "code",
      "source": [
        "# print('Hello world!')"
      ],
      "metadata": {
        "id": "g4JoQc4eIf1I"
      },
      "execution_count": 4,
      "outputs": []
    },
    {
      "cell_type": "code",
      "source": [
        "type(11)"
      ],
      "metadata": {
        "id": "2-BdnMnaI5C1",
        "outputId": "bbfccac2-2cb5-4069-9623-785f9448675f",
        "colab": {
          "base_uri": "https://localhost:8080/"
        }
      },
      "execution_count": 5,
      "outputs": [
        {
          "output_type": "execute_result",
          "data": {
            "text/plain": [
              "int"
            ]
          },
          "metadata": {},
          "execution_count": 5
        }
      ]
    },
    {
      "cell_type": "code",
      "source": [
        "type(21.213)"
      ],
      "metadata": {
        "id": "nivHChqLI6kV",
        "outputId": "c48e7aab-d0d7-45e4-c72c-2ff01a01451b",
        "colab": {
          "base_uri": "https://localhost:8080/"
        }
      },
      "execution_count": 6,
      "outputs": [
        {
          "output_type": "execute_result",
          "data": {
            "text/plain": [
              "float"
            ]
          },
          "metadata": {},
          "execution_count": 6
        }
      ]
    },
    {
      "cell_type": "code",
      "source": [
        "type(\"Hello Python 101\")"
      ],
      "metadata": {
        "id": "4TzwFNB2I84A",
        "outputId": "c82b8a53-1f93-4a16-f1d1-99ad8c1e073e",
        "colab": {
          "base_uri": "https://localhost:8080/"
        }
      },
      "execution_count": 7,
      "outputs": [
        {
          "output_type": "execute_result",
          "data": {
            "text/plain": [
              "str"
            ]
          },
          "metadata": {},
          "execution_count": 7
        }
      ]
    },
    {
      "cell_type": "code",
      "source": [
        "float(2)"
      ],
      "metadata": {
        "id": "AefwZPtjJBkI",
        "outputId": "001fde7b-abbd-473a-da3c-d44444645e33",
        "colab": {
          "base_uri": "https://localhost:8080/"
        }
      },
      "execution_count": 8,
      "outputs": [
        {
          "output_type": "execute_result",
          "data": {
            "text/plain": [
              "2.0"
            ]
          },
          "metadata": {},
          "execution_count": 8
        }
      ]
    },
    {
      "cell_type": "code",
      "source": [
        "int(1.1)"
      ],
      "metadata": {
        "id": "pKgjd8BfJRTE",
        "outputId": "ee511d83-525e-4690-e345-6133dcc8d746",
        "colab": {
          "base_uri": "https://localhost:8080/"
        }
      },
      "execution_count": 9,
      "outputs": [
        {
          "output_type": "execute_result",
          "data": {
            "text/plain": [
              "1"
            ]
          },
          "metadata": {},
          "execution_count": 9
        }
      ]
    },
    {
      "cell_type": "code",
      "source": [
        "int('1')"
      ],
      "metadata": {
        "id": "8IqALBGPJVcA",
        "outputId": "9a468bc7-0e2d-4355-9389-b046982d50ec",
        "colab": {
          "base_uri": "https://localhost:8080/"
        }
      },
      "execution_count": 10,
      "outputs": [
        {
          "output_type": "execute_result",
          "data": {
            "text/plain": [
              "1"
            ]
          },
          "metadata": {},
          "execution_count": 10
        }
      ]
    },
    {
      "cell_type": "code",
      "source": [
        "str(1)"
      ],
      "metadata": {
        "id": "hvXhDb61JXqa",
        "outputId": "5968f5b8-c645-4b06-d8e3-6facd8505ed4",
        "colab": {
          "base_uri": "https://localhost:8080/",
          "height": 35
        }
      },
      "execution_count": 11,
      "outputs": [
        {
          "output_type": "execute_result",
          "data": {
            "text/plain": [
              "'1'"
            ],
            "application/vnd.google.colaboratory.intrinsic+json": {
              "type": "string"
            }
          },
          "metadata": {},
          "execution_count": 11
        }
      ]
    },
    {
      "cell_type": "code",
      "source": [
        "str(4.5)"
      ],
      "metadata": {
        "id": "CTq2Tr2eJeBN",
        "outputId": "3efb5785-eb3c-47c0-a8f4-f03d55399b6b",
        "colab": {
          "base_uri": "https://localhost:8080/",
          "height": 35
        }
      },
      "execution_count": 12,
      "outputs": [
        {
          "output_type": "execute_result",
          "data": {
            "text/plain": [
              "'4.5'"
            ],
            "application/vnd.google.colaboratory.intrinsic+json": {
              "type": "string"
            }
          },
          "metadata": {},
          "execution_count": 12
        }
      ]
    },
    {
      "cell_type": "code",
      "source": [
        "type(True)"
      ],
      "metadata": {
        "id": "U3hk0MScJgBE",
        "outputId": "8d3f3a83-d5e9-44fe-a94f-c0eeabc16437",
        "colab": {
          "base_uri": "https://localhost:8080/"
        }
      },
      "execution_count": 13,
      "outputs": [
        {
          "output_type": "execute_result",
          "data": {
            "text/plain": [
              "bool"
            ]
          },
          "metadata": {},
          "execution_count": 13
        }
      ]
    },
    {
      "cell_type": "code",
      "source": [
        "int(True)"
      ],
      "metadata": {
        "id": "Di70oHLUJoa2",
        "outputId": "a4319337-0fa5-449c-b3ed-c6d957039355",
        "colab": {
          "base_uri": "https://localhost:8080/"
        }
      },
      "execution_count": 14,
      "outputs": [
        {
          "output_type": "execute_result",
          "data": {
            "text/plain": [
              "1"
            ]
          },
          "metadata": {},
          "execution_count": 14
        }
      ]
    },
    {
      "cell_type": "code",
      "source": [
        "int(False)"
      ],
      "metadata": {
        "id": "l2HwUFqBJsw4",
        "outputId": "011ad576-fbdc-4ec7-e8ed-976eb2b1899b",
        "colab": {
          "base_uri": "https://localhost:8080/"
        }
      },
      "execution_count": 15,
      "outputs": [
        {
          "output_type": "execute_result",
          "data": {
            "text/plain": [
              "0"
            ]
          },
          "metadata": {},
          "execution_count": 15
        }
      ]
    },
    {
      "cell_type": "code",
      "source": [
        "bool(1)"
      ],
      "metadata": {
        "id": "jmeomMQiJ0X7",
        "outputId": "88d2186a-dc54-4d52-c0b9-bbfab096e636",
        "colab": {
          "base_uri": "https://localhost:8080/"
        }
      },
      "execution_count": 16,
      "outputs": [
        {
          "output_type": "execute_result",
          "data": {
            "text/plain": [
              "True"
            ]
          },
          "metadata": {},
          "execution_count": 16
        }
      ]
    },
    {
      "cell_type": "code",
      "source": [
        "bool(0)"
      ],
      "metadata": {
        "id": "uiKMm0ceJ3XY",
        "outputId": "8c92ab49-11e7-44cc-91ac-0c4ed006869a",
        "colab": {
          "base_uri": "https://localhost:8080/"
        }
      },
      "execution_count": 17,
      "outputs": [
        {
          "output_type": "execute_result",
          "data": {
            "text/plain": [
              "False"
            ]
          },
          "metadata": {},
          "execution_count": 17
        }
      ]
    },
    {
      "cell_type": "code",
      "source": [
        "type(int(1.0))"
      ],
      "metadata": {
        "id": "UEzBNU6nJ7PS",
        "outputId": "4d9ee4cb-c636-4fbe-8b87-52c3614e0051",
        "colab": {
          "base_uri": "https://localhost:8080/"
        }
      },
      "execution_count": 18,
      "outputs": [
        {
          "output_type": "execute_result",
          "data": {
            "text/plain": [
              "int"
            ]
          },
          "metadata": {},
          "execution_count": 18
        }
      ]
    },
    {
      "cell_type": "code",
      "source": [
        "bool(1)"
      ],
      "metadata": {
        "id": "nQG_A6vDKF91",
        "outputId": "558598b2-7e8a-441c-807c-eb82d48d5cb2",
        "colab": {
          "base_uri": "https://localhost:8080/"
        }
      },
      "execution_count": 19,
      "outputs": [
        {
          "output_type": "execute_result",
          "data": {
            "text/plain": [
              "True"
            ]
          },
          "metadata": {},
          "execution_count": 19
        }
      ]
    },
    {
      "cell_type": "code",
      "source": [
        "43+60+16+41"
      ],
      "metadata": {
        "id": "1XYxIzoJKhUc",
        "outputId": "74a269a7-9cb0-4c45-fc6b-c680a7f07f47",
        "colab": {
          "base_uri": "https://localhost:8080/"
        }
      },
      "execution_count": 20,
      "outputs": [
        {
          "output_type": "execute_result",
          "data": {
            "text/plain": [
              "160"
            ]
          },
          "metadata": {},
          "execution_count": 20
        }
      ]
    },
    {
      "cell_type": "code",
      "source": [
        "50-60"
      ],
      "metadata": {
        "id": "bgnlqrsqLFTo",
        "outputId": "e21a1014-8000-415a-841d-eea1e9da60ca",
        "colab": {
          "base_uri": "https://localhost:8080/"
        }
      },
      "execution_count": 21,
      "outputs": [
        {
          "output_type": "execute_result",
          "data": {
            "text/plain": [
              "-10"
            ]
          },
          "metadata": {},
          "execution_count": 21
        }
      ]
    },
    {
      "cell_type": "code",
      "source": [
        "5*5"
      ],
      "metadata": {
        "id": "liT2-1qULJCh",
        "outputId": "dc0f642f-6a75-4d76-c050-fd5c433a1e41",
        "colab": {
          "base_uri": "https://localhost:8080/"
        }
      },
      "execution_count": 22,
      "outputs": [
        {
          "output_type": "execute_result",
          "data": {
            "text/plain": [
              "25"
            ]
          },
          "metadata": {},
          "execution_count": 22
        }
      ]
    },
    {
      "cell_type": "code",
      "source": [
        "25/5"
      ],
      "metadata": {
        "id": "qnn-vpFdLM0i",
        "outputId": "f53c4988-552d-4211-89dd-3bb2fbf989ed",
        "colab": {
          "base_uri": "https://localhost:8080/"
        }
      },
      "execution_count": 23,
      "outputs": [
        {
          "output_type": "execute_result",
          "data": {
            "text/plain": [
              "5.0"
            ]
          },
          "metadata": {},
          "execution_count": 23
        }
      ]
    },
    {
      "cell_type": "code",
      "source": [
        "25/6"
      ],
      "metadata": {
        "id": "S8RCSlRxLQDW",
        "outputId": "37670a42-d1f0-4bcc-9342-0247829b6a90",
        "colab": {
          "base_uri": "https://localhost:8080/"
        }
      },
      "execution_count": 24,
      "outputs": [
        {
          "output_type": "execute_result",
          "data": {
            "text/plain": [
              "4.166666666666667"
            ]
          },
          "metadata": {},
          "execution_count": 24
        }
      ]
    },
    {
      "cell_type": "code",
      "source": [
        "25//5"
      ],
      "metadata": {
        "id": "LUcVrtCrLQ_t",
        "outputId": "9923e56e-7cb3-430f-b6c4-1e53e0e7ccf5",
        "colab": {
          "base_uri": "https://localhost:8080/"
        }
      },
      "execution_count": 25,
      "outputs": [
        {
          "output_type": "execute_result",
          "data": {
            "text/plain": [
              "5"
            ]
          },
          "metadata": {},
          "execution_count": 25
        }
      ]
    },
    {
      "cell_type": "code",
      "source": [
        "25//6"
      ],
      "metadata": {
        "id": "ix5NJPxuLVq1",
        "outputId": "0d97820a-562e-4f57-a037-c74babb59768",
        "colab": {
          "base_uri": "https://localhost:8080/"
        }
      },
      "execution_count": 26,
      "outputs": [
        {
          "output_type": "execute_result",
          "data": {
            "text/plain": [
              "4"
            ]
          },
          "metadata": {},
          "execution_count": 26
        }
      ]
    },
    {
      "cell_type": "code",
      "source": [
        "2*60+30\n",
        "30+2*60"
      ],
      "metadata": {
        "id": "3y6zjeTmLX85",
        "outputId": "404277ad-75b5-45be-a6f1-72ee5d2f748c",
        "colab": {
          "base_uri": "https://localhost:8080/"
        }
      },
      "execution_count": 27,
      "outputs": [
        {
          "output_type": "execute_result",
          "data": {
            "text/plain": [
              "150"
            ]
          },
          "metadata": {},
          "execution_count": 27
        }
      ]
    },
    {
      "cell_type": "code",
      "source": [
        "(30+2)*60"
      ],
      "metadata": {
        "id": "51c2hPySLpgH",
        "outputId": "33bfdd21-6ef3-458a-837f-d1963355011a",
        "colab": {
          "base_uri": "https://localhost:8080/"
        }
      },
      "execution_count": 28,
      "outputs": [
        {
          "output_type": "execute_result",
          "data": {
            "text/plain": [
              "1920"
            ]
          },
          "metadata": {},
          "execution_count": 28
        }
      ]
    },
    {
      "cell_type": "code",
      "source": [
        "my_variable = 1"
      ],
      "metadata": {
        "id": "bumvIfsjL0Cs"
      },
      "execution_count": 29,
      "outputs": []
    },
    {
      "cell_type": "code",
      "source": [
        "my_variable:"
      ],
      "metadata": {
        "id": "eCBHiu3oL43t"
      },
      "execution_count": null,
      "outputs": []
    },
    {
      "cell_type": "code",
      "source": [
        "my_variable"
      ],
      "metadata": {
        "id": "XP8K-pjYMCWF",
        "outputId": "3b99df29-ff6e-489f-fc86-ac213d0dbd1e",
        "colab": {
          "base_uri": "https://localhost:8080/"
        }
      },
      "execution_count": 31,
      "outputs": [
        {
          "output_type": "execute_result",
          "data": {
            "text/plain": [
              "1"
            ]
          },
          "metadata": {},
          "execution_count": 31
        }
      ]
    },
    {
      "cell_type": "code",
      "source": [
        "my_variable=10"
      ],
      "metadata": {
        "id": "8K5LhPgwMLZC"
      },
      "execution_count": 32,
      "outputs": []
    },
    {
      "cell_type": "code",
      "source": [
        "my_variable"
      ],
      "metadata": {
        "id": "2i02kpNZMPEy",
        "outputId": "270403cd-147d-4625-e97d-3db0fd857d55",
        "colab": {
          "base_uri": "https://localhost:8080/"
        }
      },
      "execution_count": 33,
      "outputs": [
        {
          "output_type": "execute_result",
          "data": {
            "text/plain": [
              "10"
            ]
          },
          "metadata": {},
          "execution_count": 33
        }
      ]
    },
    {
      "cell_type": "code",
      "source": [
        "x = 43 + 60 + 16 + 41"
      ],
      "metadata": {
        "id": "1epsInIcMSzp"
      },
      "execution_count": 34,
      "outputs": []
    },
    {
      "cell_type": "code",
      "source": [
        "y = x / 60"
      ],
      "metadata": {
        "id": "CVLnojuNQIiv"
      },
      "execution_count": 35,
      "outputs": []
    },
    {
      "cell_type": "code",
      "source": [
        "x\n",
        "y\n"
      ],
      "metadata": {
        "id": "qcbSbShYQNsr",
        "outputId": "129663f0-ec38-4304-bb96-d6c1a7885f2e",
        "colab": {
          "base_uri": "https://localhost:8080/"
        }
      },
      "execution_count": 36,
      "outputs": [
        {
          "output_type": "execute_result",
          "data": {
            "text/plain": [
              "2.6666666666666665"
            ]
          },
          "metadata": {},
          "execution_count": 36
        }
      ]
    },
    {
      "cell_type": "code",
      "source": [
        "x"
      ],
      "metadata": {
        "id": "ZyWfKsScQQqy",
        "outputId": "e9ef4992-1629-478e-f588-930124298ad2",
        "colab": {
          "base_uri": "https://localhost:8080/"
        }
      },
      "execution_count": 37,
      "outputs": [
        {
          "output_type": "execute_result",
          "data": {
            "text/plain": [
              "160"
            ]
          },
          "metadata": {},
          "execution_count": 37
        }
      ]
    },
    {
      "cell_type": "code",
      "source": [
        "y"
      ],
      "metadata": {
        "id": "dwTUStvhQTiy",
        "outputId": "52fed3d0-6889-458e-8088-30dcec7b04e9",
        "colab": {
          "base_uri": "https://localhost:8080/"
        }
      },
      "execution_count": 38,
      "outputs": [
        {
          "output_type": "execute_result",
          "data": {
            "text/plain": [
              "2.6666666666666665"
            ]
          },
          "metadata": {},
          "execution_count": 38
        }
      ]
    },
    {
      "cell_type": "code",
      "source": [
        "x = x / 60"
      ],
      "metadata": {
        "id": "Mz63FhFTQUpd"
      },
      "execution_count": 39,
      "outputs": []
    },
    {
      "cell_type": "code",
      "source": [
        "x"
      ],
      "metadata": {
        "id": "FvQ3PNxIQZBY",
        "outputId": "84cd4c60-264c-42b6-b473-4e98b13bc838",
        "colab": {
          "base_uri": "https://localhost:8080/"
        }
      },
      "execution_count": 40,
      "outputs": [
        {
          "output_type": "execute_result",
          "data": {
            "text/plain": [
              "2.6666666666666665"
            ]
          },
          "metadata": {},
          "execution_count": 40
        }
      ]
    },
    {
      "cell_type": "code",
      "source": [
        "type(x)"
      ],
      "metadata": {
        "id": "m71xQgryQagN",
        "outputId": "9fd5e98a-c8b6-416c-c0a7-be08bbead7c1",
        "colab": {
          "base_uri": "https://localhost:8080/"
        }
      },
      "execution_count": 41,
      "outputs": [
        {
          "output_type": "execute_result",
          "data": {
            "text/plain": [
              "float"
            ]
          },
          "metadata": {},
          "execution_count": 41
        }
      ]
    },
    {
      "cell_type": "code",
      "source": [
        "total_min = 43 + 42 + 57"
      ],
      "metadata": {
        "id": "0cf6Bpi_Qeuh"
      },
      "execution_count": 42,
      "outputs": []
    },
    {
      "cell_type": "code",
      "source": [
        "total_min"
      ],
      "metadata": {
        "id": "XMBxoIFiQok3",
        "outputId": "e16afcf4-6631-48e2-ca96-0a28060a11dc",
        "colab": {
          "base_uri": "https://localhost:8080/"
        }
      },
      "execution_count": 43,
      "outputs": [
        {
          "output_type": "execute_result",
          "data": {
            "text/plain": [
              "142"
            ]
          },
          "metadata": {},
          "execution_count": 43
        }
      ]
    },
    {
      "cell_type": "code",
      "source": [
        "total_hr = total_min / 60"
      ],
      "metadata": {
        "id": "pECMpkp9Qpqu"
      },
      "execution_count": 44,
      "outputs": []
    },
    {
      "cell_type": "code",
      "source": [
        "total_hr"
      ],
      "metadata": {
        "id": "j6kGLjAoQvB3",
        "outputId": "dde5667b-5d68-42c7-e673-02d2b0afdf9f",
        "colab": {
          "base_uri": "https://localhost:8080/"
        }
      },
      "execution_count": 45,
      "outputs": [
        {
          "output_type": "execute_result",
          "data": {
            "text/plain": [
              "2.3666666666666667"
            ]
          },
          "metadata": {},
          "execution_count": 45
        }
      ]
    },
    {
      "cell_type": "code",
      "source": [
        "total_min = 43 + 42"
      ],
      "metadata": {
        "id": "HEYqTW-vQ_JK"
      },
      "execution_count": 46,
      "outputs": []
    },
    {
      "cell_type": "code",
      "source": [
        "total_hr"
      ],
      "metadata": {
        "id": "5DrFU8q_RL5O",
        "outputId": "e8108e64-ddbe-4d61-9095-8d7aea802b19",
        "colab": {
          "base_uri": "https://localhost:8080/"
        }
      },
      "execution_count": 47,
      "outputs": [
        {
          "output_type": "execute_result",
          "data": {
            "text/plain": [
              "2.3666666666666667"
            ]
          },
          "metadata": {},
          "execution_count": 47
        }
      ]
    },
    {
      "cell_type": "code",
      "source": [
        "Name = \"Michael Jackson\""
      ],
      "metadata": {
        "id": "nawt79hqRWX7"
      },
      "execution_count": 48,
      "outputs": []
    },
    {
      "cell_type": "code",
      "source": [
        "Name[0]"
      ],
      "metadata": {
        "id": "dDo0cH2GR7SP",
        "outputId": "8a9d8859-4fa3-445d-81ff-29496a0f867b",
        "colab": {
          "base_uri": "https://localhost:8080/",
          "height": 35
        }
      },
      "execution_count": 49,
      "outputs": [
        {
          "output_type": "execute_result",
          "data": {
            "text/plain": [
              "'M'"
            ],
            "application/vnd.google.colaboratory.intrinsic+json": {
              "type": "string"
            }
          },
          "metadata": {},
          "execution_count": 49
        }
      ]
    },
    {
      "cell_type": "code",
      "source": [
        "Name[-1]"
      ],
      "metadata": {
        "id": "bwzoJI3HR85m",
        "outputId": "13e8f901-dee1-4f81-eed5-dae86726fd16",
        "colab": {
          "base_uri": "https://localhost:8080/",
          "height": 35
        }
      },
      "execution_count": 50,
      "outputs": [
        {
          "output_type": "execute_result",
          "data": {
            "text/plain": [
              "'n'"
            ],
            "application/vnd.google.colaboratory.intrinsic+json": {
              "type": "string"
            }
          },
          "metadata": {},
          "execution_count": 50
        }
      ]
    },
    {
      "cell_type": "code",
      "source": [
        "Name[-15]"
      ],
      "metadata": {
        "id": "lD7QSDkQSA4C",
        "outputId": "0bd5d18c-cba1-4edb-f828-757576cb4c6d",
        "colab": {
          "base_uri": "https://localhost:8080/",
          "height": 35
        }
      },
      "execution_count": 51,
      "outputs": [
        {
          "output_type": "execute_result",
          "data": {
            "text/plain": [
              "'M'"
            ],
            "application/vnd.google.colaboratory.intrinsic+json": {
              "type": "string"
            }
          },
          "metadata": {},
          "execution_count": 51
        }
      ]
    },
    {
      "cell_type": "code",
      "source": [
        "Name[0:4]"
      ],
      "metadata": {
        "id": "iwLT5rCYSCZk",
        "outputId": "c6f3a8b1-7cae-4fea-fa6e-8f2240d03a3c",
        "colab": {
          "base_uri": "https://localhost:8080/",
          "height": 35
        }
      },
      "execution_count": 52,
      "outputs": [
        {
          "output_type": "execute_result",
          "data": {
            "text/plain": [
              "'Mich'"
            ],
            "application/vnd.google.colaboratory.intrinsic+json": {
              "type": "string"
            }
          },
          "metadata": {},
          "execution_count": 52
        }
      ]
    },
    {
      "cell_type": "code",
      "source": [
        "Name[8:12]"
      ],
      "metadata": {
        "id": "vJXYT-WZSIJN",
        "outputId": "1fdeaab6-b80b-46fe-d6ec-cfc1a23e6515",
        "colab": {
          "base_uri": "https://localhost:8080/",
          "height": 35
        }
      },
      "execution_count": 53,
      "outputs": [
        {
          "output_type": "execute_result",
          "data": {
            "text/plain": [
              "'Jack'"
            ],
            "application/vnd.google.colaboratory.intrinsic+json": {
              "type": "string"
            }
          },
          "metadata": {},
          "execution_count": 53
        }
      ]
    },
    {
      "cell_type": "code",
      "source": [
        "Name[::2]"
      ],
      "metadata": {
        "id": "RU6CCZD5SKmy",
        "outputId": "f00ac05b-a25c-4678-f60d-b67b20160e29",
        "colab": {
          "base_uri": "https://localhost:8080/",
          "height": 35
        }
      },
      "execution_count": 54,
      "outputs": [
        {
          "output_type": "execute_result",
          "data": {
            "text/plain": [
              "'McalJcsn'"
            ],
            "application/vnd.google.colaboratory.intrinsic+json": {
              "type": "string"
            }
          },
          "metadata": {},
          "execution_count": 54
        }
      ]
    },
    {
      "cell_type": "code",
      "source": [
        "Name[0:5:2]"
      ],
      "metadata": {
        "id": "NqWU88eKSUuc",
        "outputId": "6b5d017b-3dec-4fa3-a7d8-5f328c231c72",
        "colab": {
          "base_uri": "https://localhost:8080/",
          "height": 35
        }
      },
      "execution_count": 55,
      "outputs": [
        {
          "output_type": "execute_result",
          "data": {
            "text/plain": [
              "'Mca'"
            ],
            "application/vnd.google.colaboratory.intrinsic+json": {
              "type": "string"
            }
          },
          "metadata": {},
          "execution_count": 55
        }
      ]
    },
    {
      "cell_type": "code",
      "source": [
        "len(\"Michael Jackson\")"
      ],
      "metadata": {
        "id": "5qW5m3Y_SaPr",
        "outputId": "48d32408-8835-4942-9114-1f85eb8af4d9",
        "colab": {
          "base_uri": "https://localhost:8080/"
        }
      },
      "execution_count": 56,
      "outputs": [
        {
          "output_type": "execute_result",
          "data": {
            "text/plain": [
              "15"
            ]
          },
          "metadata": {},
          "execution_count": 56
        }
      ]
    },
    {
      "cell_type": "code",
      "source": [
        "Statement = Name + \"is the best\""
      ],
      "metadata": {
        "id": "zcovGv6qSobG"
      },
      "execution_count": 57,
      "outputs": []
    },
    {
      "cell_type": "code",
      "source": [
        "Statement"
      ],
      "metadata": {
        "id": "yHZdZX8sSymv",
        "outputId": "831f2db1-3f83-489e-8b45-7259aff1c3d7",
        "colab": {
          "base_uri": "https://localhost:8080/",
          "height": 35
        }
      },
      "execution_count": 58,
      "outputs": [
        {
          "output_type": "execute_result",
          "data": {
            "text/plain": [
              "'Michael Jacksonis the best'"
            ],
            "application/vnd.google.colaboratory.intrinsic+json": {
              "type": "string"
            }
          },
          "metadata": {},
          "execution_count": 58
        }
      ]
    },
    {
      "cell_type": "code",
      "source": [
        "3 * \"Michael Jackson\""
      ],
      "metadata": {
        "id": "TsVEAEkuS0Jx",
        "outputId": "4cf87203-7e1b-48aa-ca8e-82d352e5ed32",
        "colab": {
          "base_uri": "https://localhost:8080/",
          "height": 35
        }
      },
      "execution_count": 59,
      "outputs": [
        {
          "output_type": "execute_result",
          "data": {
            "text/plain": [
              "'Michael JacksonMichael JacksonMichael Jackson'"
            ],
            "application/vnd.google.colaboratory.intrinsic+json": {
              "type": "string"
            }
          },
          "metadata": {},
          "execution_count": 59
        }
      ]
    },
    {
      "cell_type": "code",
      "source": [
        "Name = Name + \"is the best\""
      ],
      "metadata": {
        "id": "woqIW7tSS8Hn"
      },
      "execution_count": 60,
      "outputs": []
    },
    {
      "cell_type": "code",
      "source": [
        "Name"
      ],
      "metadata": {
        "id": "0LZRuwkLTf29",
        "outputId": "84337c8e-7ea6-4133-d4cd-0c0b8b269855",
        "colab": {
          "base_uri": "https://localhost:8080/",
          "height": 35
        }
      },
      "execution_count": 61,
      "outputs": [
        {
          "output_type": "execute_result",
          "data": {
            "text/plain": [
              "'Michael Jacksonis the best'"
            ],
            "application/vnd.google.colaboratory.intrinsic+json": {
              "type": "string"
            }
          },
          "metadata": {},
          "execution_count": 61
        }
      ]
    },
    {
      "cell_type": "code",
      "source": [
        "print(\"Michael Jackson \\n is the best\")"
      ],
      "metadata": {
        "id": "XBjabCUkThEv",
        "outputId": "a496a326-8bac-4413-ec02-a4daad88ab32",
        "colab": {
          "base_uri": "https://localhost:8080/"
        }
      },
      "execution_count": 62,
      "outputs": [
        {
          "output_type": "stream",
          "name": "stdout",
          "text": [
            "Michael Jackson \n",
            " is the best\n"
          ]
        }
      ]
    },
    {
      "cell_type": "code",
      "source": [
        "print(\"Michael Jackson \\t is the best\")"
      ],
      "metadata": {
        "id": "ef6vIsDITnbS",
        "outputId": "f324ab70-5841-4660-cb3d-15e78be0f757",
        "colab": {
          "base_uri": "https://localhost:8080/"
        }
      },
      "execution_count": 63,
      "outputs": [
        {
          "output_type": "stream",
          "name": "stdout",
          "text": [
            "Michael Jackson \t is the best\n"
          ]
        }
      ]
    },
    {
      "cell_type": "code",
      "source": [
        "A = \"Thriller is the sixth studio album\""
      ],
      "metadata": {
        "id": "Z4i_GOoOTsy2"
      },
      "execution_count": 64,
      "outputs": []
    },
    {
      "cell_type": "code",
      "source": [
        "B = A.upper()"
      ],
      "metadata": {
        "id": "R2A9t3YiVXuI"
      },
      "execution_count": 65,
      "outputs": []
    },
    {
      "cell_type": "code",
      "source": [
        "B"
      ],
      "metadata": {
        "id": "2bfAi3GJVaK_",
        "outputId": "81da0dce-ba4c-4052-b22a-0e7809539a47",
        "colab": {
          "base_uri": "https://localhost:8080/",
          "height": 35
        }
      },
      "execution_count": 66,
      "outputs": [
        {
          "output_type": "execute_result",
          "data": {
            "text/plain": [
              "'THRILLER IS THE SIXTH STUDIO ALBUM'"
            ],
            "application/vnd.google.colaboratory.intrinsic+json": {
              "type": "string"
            }
          },
          "metadata": {},
          "execution_count": 66
        }
      ]
    },
    {
      "cell_type": "code",
      "source": [
        "A = 'Michael Jackson is the best'"
      ],
      "metadata": {
        "id": "JcDTREspVaxg"
      },
      "execution_count": 67,
      "outputs": []
    },
    {
      "cell_type": "code",
      "source": [
        "B = A.replace('Michael', 'Janet')"
      ],
      "metadata": {
        "id": "zXRIwd18VxtP"
      },
      "execution_count": 68,
      "outputs": []
    },
    {
      "cell_type": "code",
      "source": [
        "B"
      ],
      "metadata": {
        "id": "P-r-wd6yV2zI",
        "outputId": "593fab3a-3442-44c0-c72f-533b9d0f20e3",
        "colab": {
          "base_uri": "https://localhost:8080/",
          "height": 35
        }
      },
      "execution_count": 69,
      "outputs": [
        {
          "output_type": "execute_result",
          "data": {
            "text/plain": [
              "'Janet Jackson is the best'"
            ],
            "application/vnd.google.colaboratory.intrinsic+json": {
              "type": "string"
            }
          },
          "metadata": {},
          "execution_count": 69
        }
      ]
    },
    {
      "cell_type": "code",
      "source": [
        "Name.find('el')"
      ],
      "metadata": {
        "id": "_nFjPcM-V3tF",
        "outputId": "91259af0-ca2e-4fa8-fdab-63280799eabd",
        "colab": {
          "base_uri": "https://localhost:8080/"
        }
      },
      "execution_count": 70,
      "outputs": [
        {
          "output_type": "execute_result",
          "data": {
            "text/plain": [
              "5"
            ]
          },
          "metadata": {},
          "execution_count": 70
        }
      ]
    },
    {
      "cell_type": "code",
      "source": [
        "'1' + '2'"
      ],
      "metadata": {
        "id": "M4nx7BKzWNWM",
        "outputId": "caf31768-e393-4752-b58d-3a953b8db534",
        "colab": {
          "base_uri": "https://localhost:8080/",
          "height": 35
        }
      },
      "execution_count": 71,
      "outputs": [
        {
          "output_type": "execute_result",
          "data": {
            "text/plain": [
              "'12'"
            ],
            "application/vnd.google.colaboratory.intrinsic+json": {
              "type": "string"
            }
          },
          "metadata": {},
          "execution_count": 71
        }
      ]
    },
    {
      "cell_type": "code",
      "source": [
        "Ratings = (10, 9 , 6, 5, 10, 8, 9 , 6 , 2)"
      ],
      "metadata": {
        "id": "ZS6ZnP1ZXkmT"
      },
      "execution_count": 72,
      "outputs": []
    },
    {
      "cell_type": "code",
      "source": [
        "tuple1 = ('disco', 10, 1.2)"
      ],
      "metadata": {
        "id": "wWrcnyiRbcnE"
      },
      "execution_count": 73,
      "outputs": []
    },
    {
      "cell_type": "code",
      "source": [
        "type(tuple1)"
      ],
      "metadata": {
        "id": "hmLpBA7XblE7",
        "outputId": "a9117d27-6181-4790-c71d-ac5845da6304",
        "colab": {
          "base_uri": "https://localhost:8080/"
        }
      },
      "execution_count": 74,
      "outputs": [
        {
          "output_type": "execute_result",
          "data": {
            "text/plain": [
              "tuple"
            ]
          },
          "metadata": {},
          "execution_count": 74
        }
      ]
    },
    {
      "cell_type": "code",
      "source": [
        "tuple1[0]"
      ],
      "metadata": {
        "id": "yqReIwn-bnH_",
        "outputId": "e0addd6d-b7cb-40d6-f306-b64684897856",
        "colab": {
          "base_uri": "https://localhost:8080/",
          "height": 35
        }
      },
      "execution_count": 75,
      "outputs": [
        {
          "output_type": "execute_result",
          "data": {
            "text/plain": [
              "'disco'"
            ],
            "application/vnd.google.colaboratory.intrinsic+json": {
              "type": "string"
            }
          },
          "metadata": {},
          "execution_count": 75
        }
      ]
    },
    {
      "cell_type": "code",
      "source": [
        "tuple[1]"
      ],
      "metadata": {
        "id": "vaIYf5oMbwH-",
        "outputId": "27d39812-7a2a-40e6-d14a-79de303ecd52",
        "colab": {
          "base_uri": "https://localhost:8080/",
          "height": 165
        }
      },
      "execution_count": 76,
      "outputs": [
        {
          "output_type": "error",
          "ename": "TypeError",
          "evalue": "ignored",
          "traceback": [
            "\u001b[0;31m---------------------------------------------------------------------------\u001b[0m",
            "\u001b[0;31mTypeError\u001b[0m                                 Traceback (most recent call last)",
            "\u001b[0;32m<ipython-input-76-3ce2d3e2193b>\u001b[0m in \u001b[0;36m<module>\u001b[0;34m\u001b[0m\n\u001b[0;32m----> 1\u001b[0;31m \u001b[0mtuple\u001b[0m\u001b[0;34m[\u001b[0m\u001b[0;36m1\u001b[0m\u001b[0;34m]\u001b[0m\u001b[0;34m\u001b[0m\u001b[0;34m\u001b[0m\u001b[0m\n\u001b[0m",
            "\u001b[0;31mTypeError\u001b[0m: 'type' object is not subscriptable"
          ]
        }
      ]
    },
    {
      "cell_type": "code",
      "source": [
        "tuple1[1]"
      ],
      "metadata": {
        "id": "HDfOOgnqbyEI",
        "outputId": "096aa580-a443-47b5-9a46-8e61f48e571a",
        "colab": {
          "base_uri": "https://localhost:8080/"
        }
      },
      "execution_count": 77,
      "outputs": [
        {
          "output_type": "execute_result",
          "data": {
            "text/plain": [
              "10"
            ]
          },
          "metadata": {},
          "execution_count": 77
        }
      ]
    },
    {
      "cell_type": "code",
      "source": [
        "tuple1[2]"
      ],
      "metadata": {
        "id": "EF7fMGiBb0SH",
        "outputId": "08a1f743-817d-4b74-ab80-a778b354862e",
        "colab": {
          "base_uri": "https://localhost:8080/"
        }
      },
      "execution_count": 78,
      "outputs": [
        {
          "output_type": "execute_result",
          "data": {
            "text/plain": [
              "1.2"
            ]
          },
          "metadata": {},
          "execution_count": 78
        }
      ]
    },
    {
      "cell_type": "code",
      "source": [
        "Tuple1[-3]"
      ],
      "metadata": {
        "id": "aR0S-IvIb2Os",
        "outputId": "edd6b030-036d-4bea-ea9d-2250fdc5444a",
        "colab": {
          "base_uri": "https://localhost:8080/",
          "height": 165
        }
      },
      "execution_count": 79,
      "outputs": [
        {
          "output_type": "error",
          "ename": "NameError",
          "evalue": "ignored",
          "traceback": [
            "\u001b[0;31m---------------------------------------------------------------------------\u001b[0m",
            "\u001b[0;31mNameError\u001b[0m                                 Traceback (most recent call last)",
            "\u001b[0;32m<ipython-input-79-8d066bcffee1>\u001b[0m in \u001b[0;36m<module>\u001b[0;34m\u001b[0m\n\u001b[0;32m----> 1\u001b[0;31m \u001b[0mTuple1\u001b[0m\u001b[0;34m[\u001b[0m\u001b[0;34m-\u001b[0m\u001b[0;36m3\u001b[0m\u001b[0;34m]\u001b[0m\u001b[0;34m\u001b[0m\u001b[0;34m\u001b[0m\u001b[0m\n\u001b[0m",
            "\u001b[0;31mNameError\u001b[0m: name 'Tuple1' is not defined"
          ]
        }
      ]
    },
    {
      "cell_type": "code",
      "source": [
        "tuple1[-3]"
      ],
      "metadata": {
        "id": "US7IBB6hb8SB",
        "outputId": "458c5cf7-3681-4f49-ce7d-46dd789121d5",
        "colab": {
          "base_uri": "https://localhost:8080/",
          "height": 35
        }
      },
      "execution_count": 80,
      "outputs": [
        {
          "output_type": "execute_result",
          "data": {
            "text/plain": [
              "'disco'"
            ],
            "application/vnd.google.colaboratory.intrinsic+json": {
              "type": "string"
            }
          },
          "metadata": {},
          "execution_count": 80
        }
      ]
    },
    {
      "cell_type": "code",
      "source": [
        "tuple1[-2]"
      ],
      "metadata": {
        "id": "UnFSBJgvb-Th",
        "outputId": "387f9551-6e62-465f-d566-a15c2096880b",
        "colab": {
          "base_uri": "https://localhost:8080/"
        }
      },
      "execution_count": 81,
      "outputs": [
        {
          "output_type": "execute_result",
          "data": {
            "text/plain": [
              "10"
            ]
          },
          "metadata": {},
          "execution_count": 81
        }
      ]
    },
    {
      "cell_type": "code",
      "source": [
        "tuple1[-1]"
      ],
      "metadata": {
        "id": "c67odYV-cBKD",
        "outputId": "0c2442b1-84ec-454d-cdae-f84f6e902574",
        "colab": {
          "base_uri": "https://localhost:8080/"
        }
      },
      "execution_count": 82,
      "outputs": [
        {
          "output_type": "execute_result",
          "data": {
            "text/plain": [
              "1.2"
            ]
          },
          "metadata": {},
          "execution_count": 82
        }
      ]
    },
    {
      "cell_type": "code",
      "source": [
        "tuple2 = tuple1 + (\"hard rock\", 10)"
      ],
      "metadata": {
        "id": "JTWzRiohcDgC"
      },
      "execution_count": 83,
      "outputs": []
    },
    {
      "cell_type": "code",
      "source": [
        "tuple2"
      ],
      "metadata": {
        "id": "HX2FpHAtcLmr",
        "outputId": "acc7c3a7-8dad-4346-827e-77aa69b3c7e9",
        "colab": {
          "base_uri": "https://localhost:8080/"
        }
      },
      "execution_count": 84,
      "outputs": [
        {
          "output_type": "execute_result",
          "data": {
            "text/plain": [
              "('disco', 10, 1.2, 'hard rock', 10)"
            ]
          },
          "metadata": {},
          "execution_count": 84
        }
      ]
    },
    {
      "cell_type": "code",
      "source": [
        "print(tuple2[0:3])"
      ],
      "metadata": {
        "id": "ZLm-uIlrcNyG",
        "outputId": "37a3c879-ccd2-425e-bac7-1bcba72336ba",
        "colab": {
          "base_uri": "https://localhost:8080/"
        }
      },
      "execution_count": 85,
      "outputs": [
        {
          "output_type": "stream",
          "name": "stdout",
          "text": [
            "('disco', 10, 1.2)\n"
          ]
        }
      ]
    },
    {
      "cell_type": "code",
      "source": [
        "print(tuple[3:5])"
      ],
      "metadata": {
        "id": "T2vFkcmRcTaU",
        "outputId": "e336e880-7891-4593-e831-997303fdd0d1",
        "colab": {
          "base_uri": "https://localhost:8080/",
          "height": 165
        }
      },
      "execution_count": 86,
      "outputs": [
        {
          "output_type": "error",
          "ename": "TypeError",
          "evalue": "ignored",
          "traceback": [
            "\u001b[0;31m---------------------------------------------------------------------------\u001b[0m",
            "\u001b[0;31mTypeError\u001b[0m                                 Traceback (most recent call last)",
            "\u001b[0;32m<ipython-input-86-ffe1f5bd8256>\u001b[0m in \u001b[0;36m<module>\u001b[0;34m\u001b[0m\n\u001b[0;32m----> 1\u001b[0;31m \u001b[0mprint\u001b[0m\u001b[0;34m(\u001b[0m\u001b[0mtuple\u001b[0m\u001b[0;34m[\u001b[0m\u001b[0;36m3\u001b[0m\u001b[0;34m:\u001b[0m\u001b[0;36m5\u001b[0m\u001b[0;34m]\u001b[0m\u001b[0;34m)\u001b[0m\u001b[0;34m\u001b[0m\u001b[0;34m\u001b[0m\u001b[0m\n\u001b[0m",
            "\u001b[0;31mTypeError\u001b[0m: 'type' object is not subscriptable"
          ]
        }
      ]
    },
    {
      "cell_type": "code",
      "source": [
        "print(tuple2[3:5])"
      ],
      "metadata": {
        "id": "8FQDCMQ1cdfV",
        "outputId": "5819ef1e-6b66-4981-8a3c-cc2799c8f33c",
        "colab": {
          "base_uri": "https://localhost:8080/"
        }
      },
      "execution_count": 87,
      "outputs": [
        {
          "output_type": "stream",
          "name": "stdout",
          "text": [
            "('hard rock', 10)\n"
          ]
        }
      ]
    },
    {
      "cell_type": "code",
      "source": [
        "len((\"disco\", 10, 1.2, \"hard rock\", 10))"
      ],
      "metadata": {
        "id": "bGl6l4eEc1dL",
        "outputId": "20b6f237-3f76-40e6-c5eb-ba600fc06444",
        "colab": {
          "base_uri": "https://localhost:8080/"
        }
      },
      "execution_count": 88,
      "outputs": [
        {
          "output_type": "execute_result",
          "data": {
            "text/plain": [
              "5"
            ]
          },
          "metadata": {},
          "execution_count": 88
        }
      ]
    },
    {
      "cell_type": "code",
      "source": [
        "Ratings = (10, 9, 6, 5, 10, 8, 9, 6, 2)"
      ],
      "metadata": {
        "id": "QBG4Ie7vdFTU"
      },
      "execution_count": 89,
      "outputs": []
    },
    {
      "cell_type": "code",
      "source": [
        "Ratings1 = Ratings"
      ],
      "metadata": {
        "id": "A4eRQ2HKdQjg"
      },
      "execution_count": 90,
      "outputs": []
    },
    {
      "cell_type": "code",
      "source": [
        "RatingsSorted = sorted(Ratings)"
      ],
      "metadata": {
        "id": "poinHDTWdSdI"
      },
      "execution_count": 91,
      "outputs": []
    },
    {
      "cell_type": "code",
      "source": [
        "RatingsSorted"
      ],
      "metadata": {
        "id": "7hCQpJObdoug",
        "outputId": "9fe57796-4910-4938-b44e-a2bf71b3aea6",
        "colab": {
          "base_uri": "https://localhost:8080/"
        }
      },
      "execution_count": 92,
      "outputs": [
        {
          "output_type": "execute_result",
          "data": {
            "text/plain": [
              "[2, 5, 6, 6, 8, 9, 9, 10, 10]"
            ]
          },
          "metadata": {},
          "execution_count": 92
        }
      ]
    },
    {
      "cell_type": "code",
      "source": [
        "NT = (1, 2, (\"pop\", \"rock\"), (3,4), (\"disco\", (1,2)))"
      ],
      "metadata": {
        "id": "13Tx1InGdsDT"
      },
      "execution_count": 93,
      "outputs": []
    },
    {
      "cell_type": "code",
      "source": [
        "NT[2]"
      ],
      "metadata": {
        "id": "IgCUpUbAd6En",
        "outputId": "3e478359-05a6-4e50-b355-d439f9f8e2c9",
        "colab": {
          "base_uri": "https://localhost:8080/"
        }
      },
      "execution_count": 94,
      "outputs": [
        {
          "output_type": "execute_result",
          "data": {
            "text/plain": [
              "('pop', 'rock')"
            ]
          },
          "metadata": {},
          "execution_count": 94
        }
      ]
    },
    {
      "cell_type": "code",
      "source": [
        "NT[2][1]"
      ],
      "metadata": {
        "id": "VeP8-ix_d9VB",
        "outputId": "a7c1ade4-48a2-41ef-ade0-7cb18fdd0edf",
        "colab": {
          "base_uri": "https://localhost:8080/",
          "height": 35
        }
      },
      "execution_count": 95,
      "outputs": [
        {
          "output_type": "execute_result",
          "data": {
            "text/plain": [
              "'rock'"
            ],
            "application/vnd.google.colaboratory.intrinsic+json": {
              "type": "string"
            }
          },
          "metadata": {},
          "execution_count": 95
        }
      ]
    },
    {
      "cell_type": "code",
      "source": [
        "L = [\"Michael Jackson\", 10.1, 1982]"
      ],
      "metadata": {
        "id": "E225SxVVeEB-"
      },
      "execution_count": 96,
      "outputs": []
    },
    {
      "cell_type": "code",
      "source": [
        "print(L[0])"
      ],
      "metadata": {
        "id": "CAWSk0DrebwH",
        "outputId": "f7551ff1-0b6f-4173-ea90-cd5f7b4bb062",
        "colab": {
          "base_uri": "https://localhost:8080/"
        }
      },
      "execution_count": 97,
      "outputs": [
        {
          "output_type": "stream",
          "name": "stdout",
          "text": [
            "Michael Jackson\n"
          ]
        }
      ]
    },
    {
      "cell_type": "code",
      "source": [
        "print(L[1])"
      ],
      "metadata": {
        "id": "wQlFr4RPen_D",
        "outputId": "db9365d1-8e16-40f7-ff3a-d372b3fdbe6c",
        "colab": {
          "base_uri": "https://localhost:8080/"
        }
      },
      "execution_count": 98,
      "outputs": [
        {
          "output_type": "stream",
          "name": "stdout",
          "text": [
            "10.1\n"
          ]
        }
      ]
    },
    {
      "cell_type": "code",
      "source": [
        "print(L[2])"
      ],
      "metadata": {
        "id": "hE_fie7TettY",
        "outputId": "6ca62617-910e-4c5a-b202-3590aebbcbc1",
        "colab": {
          "base_uri": "https://localhost:8080/"
        }
      },
      "execution_count": 99,
      "outputs": [
        {
          "output_type": "stream",
          "name": "stdout",
          "text": [
            "1982\n"
          ]
        }
      ]
    },
    {
      "cell_type": "code",
      "source": [
        "print(L[-3])"
      ],
      "metadata": {
        "id": "LkAlJ123ew7f",
        "outputId": "1e48e40e-d823-4aec-f2ba-aff1f09232b7",
        "colab": {
          "base_uri": "https://localhost:8080/"
        }
      },
      "execution_count": 102,
      "outputs": [
        {
          "output_type": "stream",
          "name": "stdout",
          "text": [
            "Michael Jackson\n"
          ]
        }
      ]
    },
    {
      "cell_type": "code",
      "source": [
        "print(L[-2])"
      ],
      "metadata": {
        "id": "3hyRCskce_iH",
        "outputId": "e8762dea-3e54-4a82-ea51-fdae2182427f",
        "colab": {
          "base_uri": "https://localhost:8080/"
        }
      },
      "execution_count": 103,
      "outputs": [
        {
          "output_type": "stream",
          "name": "stdout",
          "text": [
            "10.1\n"
          ]
        }
      ]
    },
    {
      "cell_type": "code",
      "source": [
        "print(L[-1])"
      ],
      "metadata": {
        "id": "xggAxXrgfWgo",
        "outputId": "ff05a7ac-55d6-4bc3-992e-efc683d43733",
        "colab": {
          "base_uri": "https://localhost:8080/"
        }
      },
      "execution_count": 104,
      "outputs": [
        {
          "output_type": "stream",
          "name": "stdout",
          "text": [
            "1982\n"
          ]
        }
      ]
    },
    {
      "cell_type": "code",
      "source": [],
      "metadata": {
        "id": "VyO517H_fZ-j"
      },
      "execution_count": null,
      "outputs": []
    }
  ]
}